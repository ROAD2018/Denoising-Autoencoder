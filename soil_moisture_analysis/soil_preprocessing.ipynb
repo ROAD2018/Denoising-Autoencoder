{
 "cells": [
  {
   "cell_type": "code",
   "execution_count": null,
   "metadata": {},
   "outputs": [],
   "source": [
    "from adtk.visualization import plot\n",
    "from adtk.data import validate_series\n",
    "from adtk.detector import InterQuartileRangeAD"
   ]
  },
  {
   "cell_type": "code",
   "execution_count": 3,
   "metadata": {},
   "outputs": [],
   "source": [
    "import os,re, glob, csv, datetime\n",
    "import pandas as pd\n",
    "import numpy as np\n",
    "import matplotlib.pyplot as plt\n",
    "from matplotlib.dates import DateFormatter\n",
    "import netCDF4 as nc\n",
    "from collections import Counter"
   ]
  },
  {
   "cell_type": "code",
   "execution_count": 359,
   "metadata": {},
   "outputs": [],
   "source": [
    "def avg_daily_sm_data(in_nc = None):\n",
    "    if in_nc is None:\n",
    "        in_nc = nc.Dataset(data_path+soil_moisture_path) # read file\n",
    "    # print(in_nc) # print file information\n",
    "    # y = in_nc.variables['lat'][:] # read latitude variable\n",
    "    # x = in_nc.variables['lon'][:] # read longitude variable\n",
    "    soil_moisture = in_nc.variables['soil_moisture'][:]\n",
    "    depth = in_nc.variables['depth'][:] # read depth variable\n",
    "    time = in_nc.variables['time'][:] # read time variable\n",
    "    time_unit = in_nc.variables[\"time\"].getncattr('units')\n",
    "    time_cal = in_nc.variables[\"time\"].getncattr('calendar')\n",
    "    local_time = nc.num2date(time, units=time_unit, calendar=time_cal)\n",
    "    sm_df = pd.DataFrame(soil_moisture, columns=depth, index=local_time.tolist())\n",
    "    sm_df['time'] = sm_df.index\n",
    "    sm_df_daily = sm_df.groupby(pd.Grouper(key='time',freq='1D')).aggregate(lambda x: x.count())\n",
    "    sm_df_daily['date'] = sm_df_daily.index\n",
    "    return sm_df_daily"
   ]
  },
  {
   "cell_type": "code",
   "execution_count": 360,
   "metadata": {},
   "outputs": [],
   "source": [
    "matches_list = [ 'soil_moist_20min_Kendall_AZ_*','soil_moist_20min_Vaira_CA_*','soil_moist_20min_BLMLand1STonzi_CA_*','soil_moist_20min_LuckyHills_AZ_*',\n",
    "                'soil_moist_20min_MatthaeiGardens_*','soil_moist_20min_NewHoganLakeN_CA_*',\n",
    "                'soil_moist_20min_TerradOro_CA_*',\n",
    "                'soil_moist_20min_TonziRanch_CA_*','soil_moist_20min_BLMLand2STonzi_CA_*','soil_moist_20min_BLMLand3NTonzi_CA_*']\n",
    "data_path = \"C:/Users/M Sonakshi/Documents/soil/soil/SoilSCAPE_1339/SoilSCAPE_1339/data/\""
   ]
  },
  {
   "cell_type": "code",
   "execution_count": 361,
   "metadata": {},
   "outputs": [],
   "source": [
    "match_str = matches_list[0]\n",
    "f = glob.glob(os.path.join(data_path+match_str))[0]\n",
    "in_nc = nc.Dataset(os.path.join(data_path, f))\n",
    "daily_df = avg_daily_sm_data(in_nc)"
   ]
  },
  {
   "cell_type": "code",
   "execution_count": null,
   "metadata": {},
   "outputs": [],
   "source": []
  },
  {
   "cell_type": "code",
   "execution_count": 69,
   "metadata": {},
   "outputs": [],
   "source": [
    "def isNaN(num):\n",
    "    return num != num or num==0"
   ]
  },
  {
   "cell_type": "code",
   "execution_count": 313,
   "metadata": {},
   "outputs": [],
   "source": [
    "def find_longest_seq_count(s1):\n",
    "    max_val = 0\n",
    "    longest_gap = 0\n",
    "    long_seq = 0\n",
    "    max_long_seq = 0\n",
    "    num_gaps=0\n",
    "    no_nulls=True\n",
    "    for val in s1:\n",
    "        if isNaN(val):\n",
    "            if max_val==0:\n",
    "                num_gaps+=1\n",
    "            no_nulls=False\n",
    "            max_val+=1\n",
    "            if max_long_seq<long_seq:\n",
    "                max_long_seq = long_seq\n",
    "            long_seq = 0\n",
    "        else:\n",
    "            long_seq+=1\n",
    "            if longest_gap<max_val:\n",
    "                longest_gap = max_val\n",
    "            max_val = 0\n",
    "    if max_long_seq<long_seq:\n",
    "        max_long_seq = long_seq\n",
    "    if longest_gap<max_val:\n",
    "        longest_gap = max_val\n",
    "    if no_nulls:\n",
    "        max_long_seq = s1.shape[0]\n",
    "    return max_long_seq, longest_gap,num_gaps"
   ]
  },
  {
   "cell_type": "code",
   "execution_count": 79,
   "metadata": {},
   "outputs": [],
   "source": [
    "def get_data_depth_wise(matches_list):\n",
    "    list_dict = []\n",
    "    for match_str in matches_list:\n",
    "        for f in glob.glob(os.path.join(data_path+match_str)):\n",
    "            d1 = {}\n",
    "            site_str = f.split(\"\\\\\")[1][17:-7]\n",
    "            d1['site'] = site_str\n",
    "            in_nc = nc.Dataset(os.path.join(data_path, f))\n",
    "            daily_df = avg_daily_sm_data(in_nc)\n",
    "            daily_df = daily_df.replace(0,np.nan)\n",
    "            node_id = \"\"\n",
    "            m = re.match(\".*n(\\\\d+).*\", f)\n",
    "            if m:\n",
    "                node_id = m.group(1)\n",
    "                d1['node_id'] = node_id\n",
    "            daily_df['date'] = pd.to_datetime(daily_df['date'], format='%Y%m%d').apply(lambda x: x.date())\n",
    "            daily_df.index = daily_df['date']\n",
    "            d1['total_rows'] = daily_df.shape[0]\n",
    "            daily_df = daily_df.drop(columns=['date'])\n",
    "            d1['start'] = list(daily_df.index)[0]\n",
    "            d1['end'] = list(daily_df.index)[-1]\n",
    "            gap_dict = {}\n",
    "            seq_dict={}\n",
    "            num_gaps = {}\n",
    "            for col in daily_df.columns:\n",
    "                seq_dict[col],gap_dict[col],num_gaps[col] = find_longest_seq_count(daily_df[col])\n",
    "            v = daily_df.isnull().sum()\n",
    "            depth_null = list(zip(v.index,v))\n",
    "            for a in depth_null:\n",
    "                d = d1.copy()\n",
    "                d['depth'] = a[0]\n",
    "                d['nulls'] = a[1]\n",
    "                d['filled_percentage'] = 1 - d['nulls']/float(d['total_rows'])\n",
    "                d['longest_gap'] = gap_dict[a[0]]\n",
    "                d['longest_seq'] = seq_dict[a[0]]\n",
    "                d['num_gaps']  = num_gaps[a[0]]\n",
    "                list_dict.append(d)\n",
    "    with open(\"C:/Users/M Sonakshi/Documents/soil_imgs/countVis/nodewisedata.csv\",'w',newline=\"\") as f:\n",
    "        keys = list_dict[0].keys()\n",
    "        writer = csv.DictWriter(f,['site','node_id','depth','start','end','nulls','total_rows','filled_percentage','longest_gap','longest_seq','num_gaps'])\n",
    "        writer.writeheader()\n",
    "        writer.writerows(list_dict)\n",
    "                "
   ]
  },
  {
   "cell_type": "code",
   "execution_count": 80,
   "metadata": {},
   "outputs": [],
   "source": [
    "get_data_depth_wise(matches_list)"
   ]
  },
  {
   "cell_type": "code",
   "execution_count": null,
   "metadata": {},
   "outputs": [],
   "source": []
  },
  {
   "cell_type": "code",
   "execution_count": 81,
   "metadata": {},
   "outputs": [],
   "source": [
    "data = pd.read_csv(\"C:/Users/M Sonakshi/Documents/soil_imgs/countVis/nodewisedata.csv\")"
   ]
  },
  {
   "cell_type": "code",
   "execution_count": 314,
   "metadata": {},
   "outputs": [
    {
     "data": {
      "text/html": [
       "<div>\n",
       "<style scoped>\n",
       "    .dataframe tbody tr th:only-of-type {\n",
       "        vertical-align: middle;\n",
       "    }\n",
       "\n",
       "    .dataframe tbody tr th {\n",
       "        vertical-align: top;\n",
       "    }\n",
       "\n",
       "    .dataframe thead th {\n",
       "        text-align: right;\n",
       "    }\n",
       "</style>\n",
       "<table border=\"1\" class=\"dataframe\">\n",
       "  <thead>\n",
       "    <tr style=\"text-align: right;\">\n",
       "      <th></th>\n",
       "      <th>site</th>\n",
       "      <th>node_id</th>\n",
       "      <th>depth</th>\n",
       "      <th>start</th>\n",
       "      <th>end</th>\n",
       "      <th>nulls</th>\n",
       "      <th>total_rows</th>\n",
       "      <th>filled_percentage</th>\n",
       "      <th>longest_gap</th>\n",
       "      <th>longest_seq</th>\n",
       "      <th>num_gaps</th>\n",
       "    </tr>\n",
       "  </thead>\n",
       "  <tbody>\n",
       "    <tr>\n",
       "      <th>0</th>\n",
       "      <td>Kendall_AZ_n</td>\n",
       "      <td>1400</td>\n",
       "      <td>5</td>\n",
       "      <td>2015-08-16</td>\n",
       "      <td>2019-03-26</td>\n",
       "      <td>59</td>\n",
       "      <td>1319</td>\n",
       "      <td>0.955269</td>\n",
       "      <td>11</td>\n",
       "      <td>463</td>\n",
       "      <td>18</td>\n",
       "    </tr>\n",
       "    <tr>\n",
       "      <th>1</th>\n",
       "      <td>Kendall_AZ_n</td>\n",
       "      <td>1400</td>\n",
       "      <td>15</td>\n",
       "      <td>2015-08-16</td>\n",
       "      <td>2019-03-26</td>\n",
       "      <td>68</td>\n",
       "      <td>1319</td>\n",
       "      <td>0.948446</td>\n",
       "      <td>11</td>\n",
       "      <td>463</td>\n",
       "      <td>20</td>\n",
       "    </tr>\n",
       "    <tr>\n",
       "      <th>2</th>\n",
       "      <td>Kendall_AZ_n</td>\n",
       "      <td>1400</td>\n",
       "      <td>30</td>\n",
       "      <td>2015-08-16</td>\n",
       "      <td>2019-03-26</td>\n",
       "      <td>59</td>\n",
       "      <td>1319</td>\n",
       "      <td>0.955269</td>\n",
       "      <td>11</td>\n",
       "      <td>463</td>\n",
       "      <td>18</td>\n",
       "    </tr>\n",
       "    <tr>\n",
       "      <th>3</th>\n",
       "      <td>Kendall_AZ_n</td>\n",
       "      <td>1401</td>\n",
       "      <td>5</td>\n",
       "      <td>2015-08-16</td>\n",
       "      <td>2019-03-26</td>\n",
       "      <td>210</td>\n",
       "      <td>1319</td>\n",
       "      <td>0.840788</td>\n",
       "      <td>150</td>\n",
       "      <td>340</td>\n",
       "      <td>20</td>\n",
       "    </tr>\n",
       "    <tr>\n",
       "      <th>4</th>\n",
       "      <td>Kendall_AZ_n</td>\n",
       "      <td>1401</td>\n",
       "      <td>15</td>\n",
       "      <td>2015-08-16</td>\n",
       "      <td>2019-03-26</td>\n",
       "      <td>844</td>\n",
       "      <td>1319</td>\n",
       "      <td>0.360121</td>\n",
       "      <td>808</td>\n",
       "      <td>223</td>\n",
       "      <td>4</td>\n",
       "    </tr>\n",
       "  </tbody>\n",
       "</table>\n",
       "</div>"
      ],
      "text/plain": [
       "           site  node_id  depth       start         end  nulls  total_rows  \\\n",
       "0  Kendall_AZ_n     1400      5  2015-08-16  2019-03-26     59        1319   \n",
       "1  Kendall_AZ_n     1400     15  2015-08-16  2019-03-26     68        1319   \n",
       "2  Kendall_AZ_n     1400     30  2015-08-16  2019-03-26     59        1319   \n",
       "3  Kendall_AZ_n     1401      5  2015-08-16  2019-03-26    210        1319   \n",
       "4  Kendall_AZ_n     1401     15  2015-08-16  2019-03-26    844        1319   \n",
       "\n",
       "   filled_percentage  longest_gap  longest_seq  num_gaps  \n",
       "0           0.955269           11          463        18  \n",
       "1           0.948446           11          463        20  \n",
       "2           0.955269           11          463        18  \n",
       "3           0.840788          150          340        20  \n",
       "4           0.360121          808          223         4  "
      ]
     },
     "execution_count": 314,
     "metadata": {},
     "output_type": "execute_result"
    }
   ],
   "source": [
    "data.head()"
   ]
  },
  {
   "cell_type": "code",
   "execution_count": 83,
   "metadata": {},
   "outputs": [
    {
     "data": {
      "text/plain": [
       "0.01734368903849818"
      ]
     },
     "execution_count": 83,
     "metadata": {},
     "output_type": "execute_result"
    }
   ],
   "source": [
    "data[data['filled_percentage']==1]['total_rows'].sum()/data['total_rows'].sum()"
   ]
  },
  {
   "cell_type": "code",
   "execution_count": 84,
   "metadata": {},
   "outputs": [
    {
     "data": {
      "text/plain": [
       "0.10614446571638554"
      ]
     },
     "execution_count": 84,
     "metadata": {},
     "output_type": "execute_result"
    }
   ],
   "source": [
    "data[data['filled_percentage']>=0.9]['total_rows'].sum()/data['total_rows'].sum()"
   ]
  },
  {
   "cell_type": "code",
   "execution_count": 85,
   "metadata": {},
   "outputs": [
    {
     "data": {
      "text/plain": [
       "0.1961141910059007"
      ]
     },
     "execution_count": 85,
     "metadata": {},
     "output_type": "execute_result"
    }
   ],
   "source": [
    "data[data['filled_percentage']>=0.8]['total_rows'].sum()/data['total_rows'].sum()"
   ]
  },
  {
   "cell_type": "code",
   "execution_count": 86,
   "metadata": {},
   "outputs": [
    {
     "data": {
      "text/plain": [
       "0.3497258339155393"
      ]
     },
     "execution_count": 86,
     "metadata": {},
     "output_type": "execute_result"
    }
   ],
   "source": [
    "data[data['filled_percentage']>=0.7]['total_rows'].sum()/data['total_rows'].sum()"
   ]
  },
  {
   "cell_type": "code",
   "execution_count": 87,
   "metadata": {},
   "outputs": [
    {
     "data": {
      "text/plain": [
       "0.5184249286986714"
      ]
     },
     "execution_count": 87,
     "metadata": {},
     "output_type": "execute_result"
    }
   ],
   "source": [
    "data[data['filled_percentage']>=0.6]['total_rows'].sum()/data['total_rows'].sum()"
   ]
  },
  {
   "cell_type": "code",
   "execution_count": 93,
   "metadata": {},
   "outputs": [
    {
     "data": {
      "text/plain": [
       "125915"
      ]
     },
     "execution_count": 93,
     "metadata": {},
     "output_type": "execute_result"
    }
   ],
   "source": [
    "data[(data['longest_seq']>=300)]['longest_seq'].sum()"
   ]
  },
  {
   "cell_type": "code",
   "execution_count": 89,
   "metadata": {},
   "outputs": [
    {
     "data": {
      "text/plain": [
       "0.019011671339436667"
      ]
     },
     "execution_count": 89,
     "metadata": {},
     "output_type": "execute_result"
    }
   ],
   "source": [
    "data[data['filled_percentage']<=0.1]['total_rows'].sum()/data['total_rows'].sum()"
   ]
  },
  {
   "cell_type": "code",
   "execution_count": 90,
   "metadata": {},
   "outputs": [
    {
     "data": {
      "text/plain": [
       "661278"
      ]
     },
     "execution_count": 90,
     "metadata": {},
     "output_type": "execute_result"
    }
   ],
   "source": [
    "data['total_rows'].sum()"
   ]
  },
  {
   "cell_type": "code",
   "execution_count": 335,
   "metadata": {},
   "outputs": [],
   "source": [
    "df = pd.read_csv(\"C:/Users/M Sonakshi/Documents/soil/soil/pred_exp/merge_all_result.csv\",sep=\";\")"
   ]
  },
  {
   "cell_type": "code",
   "execution_count": 336,
   "metadata": {},
   "outputs": [],
   "source": [
    "df = df.sort_values(by=['date'])"
   ]
  },
  {
   "cell_type": "code",
   "execution_count": 134,
   "metadata": {},
   "outputs": [],
   "source": [
    "##soil moisture values for these were only equal to 0.1 - hence best to discard\n",
    "cols_discard =['Vaira_CAn=642_d=5',\n",
    " 'Vaira_CAn=644_d=5',\n",
    " 'Vaira_CAn=651_d=5',\n",
    " 'Vaira_CAn=651_d=20',\n",
    " 'Vaira_CAn=653_d=5',\n",
    " 'Vaira_CAn=656_d=5',\n",
    " 'Vaira_CAn=656_d=20',\n",
    " 'Vaira_CAn=661_d=5',\n",
    " 'Vaira_CAn=666_d=5',\n",
    " 'Vaira_CAn=666_d=20',\n",
    " 'Vaira_CAn=668_d=5',\n",
    " 'Vaira_CAn=670_d=5',\n",
    " 'Vaira_CAn=671_d=20',\n",
    " 'Vaira_CAn=675_d=5',\n",
    " 'Vaira_CAn=675_d=20',\n",
    " 'LuckyHills_AZ_n=1502_d=50']"
   ]
  },
  {
   "cell_type": "code",
   "execution_count": 337,
   "metadata": {},
   "outputs": [],
   "source": [
    "filtered = df"
   ]
  },
  {
   "cell_type": "code",
   "execution_count": 338,
   "metadata": {},
   "outputs": [],
   "source": [
    "filtered.index = filtered.date"
   ]
  },
  {
   "cell_type": "code",
   "execution_count": 112,
   "metadata": {},
   "outputs": [],
   "source": [
    "filtered=filtered.replace(0,np.nan)"
   ]
  },
  {
   "cell_type": "code",
   "execution_count": 339,
   "metadata": {},
   "outputs": [],
   "source": [
    "def get_dates_filter(s1,dates):\n",
    "    max_val = 0\n",
    "    longest_gap = 0\n",
    "    long_seq = 0\n",
    "    max_long_seq = 0\n",
    "    no_nulls=True\n",
    "    gaps = []\n",
    "    starts = []\n",
    "    ends = []\n",
    "    mls_start = []\n",
    "    mls_end = []\n",
    "    seqs=[]\n",
    "    for val,date in zip(s1,dates):\n",
    "        if isNaN(val):\n",
    "            no_nulls=False\n",
    "            if max_val ==0:\n",
    "                starts.append(date)\n",
    "            max_val+=1\n",
    "            if max_long_seq<long_seq:\n",
    "                max_long_seq = long_seq\n",
    "            if long_seq > 0:\n",
    "                seqs.append(long_seq)\n",
    "                mls_end.append(date)\n",
    "            long_seq = 0\n",
    "        else:\n",
    "            if long_seq ==0:\n",
    "                mls_start.append(date)\n",
    "            long_seq+=1\n",
    "            if longest_gap<max_val:\n",
    "                longest_gap = max_val\n",
    "            if max_val > 0:\n",
    "                gaps.append(max_val)\n",
    "                ends.append(date)\n",
    "            max_val = 0\n",
    "    if max_long_seq<long_seq:\n",
    "        max_long_seq = long_seq\n",
    "    if longest_gap<max_val:\n",
    "        longest_gap = max_val\n",
    "    if max_val>0:    \n",
    "        ends.append(dates[-1])\n",
    "        gaps.append(max_val)\n",
    "    if no_nulls:\n",
    "        max_long_seq = s1.shape[0]\n",
    "    if long_seq > 0:\n",
    "        mls_end.append(dates[-1])\n",
    "        seqs.append(long_seq)\n",
    "    d = dict()\n",
    "    d['gaps'] = gaps\n",
    "    d['starts'] = starts\n",
    "    d['ends'] = ends\n",
    "    d['mls_start'] = mls_start\n",
    "    d['mls_end'] = mls_end\n",
    "    d['seqs'] = seqs\n",
    "    d['long_seq'] = max_long_seq\n",
    "    d['longest_gap'] = longest_gap\n",
    "    return d"
   ]
  },
  {
   "cell_type": "code",
   "execution_count": 342,
   "metadata": {},
   "outputs": [],
   "source": [
    "d1 =get_dates_filter(filtered['BLMLand1STonzi_CAn=900_d=5'],list(filtered.date))\n"
   ]
  },
  {
   "cell_type": "code",
   "execution_count": null,
   "metadata": {},
   "outputs": [
    {
     "data": {
      "text/plain": [
       "{'ends': ['2013-07-05',\n",
       "  '2013-08-06',\n",
       "  '2013-09-28',\n",
       "  '2015-08-18',\n",
       "  '2015-08-21',\n",
       "  '2015-09-02',\n",
       "  '2015-09-06',\n",
       "  '2015-09-11',\n",
       "  '2015-09-19',\n",
       "  '2015-09-21',\n",
       "  '2015-10-02',\n",
       "  '2015-11-02',\n",
       "  '2016-01-08',\n",
       "  '2016-02-24',\n",
       "  '2016-03-26',\n",
       "  '2016-05-28',\n",
       "  '2016-09-27',\n",
       "  '2017-08-06',\n",
       "  '2018-01-11',\n",
       "  '2018-02-23',\n",
       "  '2018-03-12',\n",
       "  '2018-10-02',\n",
       "  '2018-11-24',\n",
       "  '2018-11-30',\n",
       "  '2018-12-02',\n",
       "  '2018-12-06',\n",
       "  '2019-09-01',\n",
       "  '2019-11-15'],\n",
       " 'gaps': [322,\n",
       "  1,\n",
       "  22,\n",
       "  1,\n",
       "  2,\n",
       "  8,\n",
       "  2,\n",
       "  4,\n",
       "  7,\n",
       "  1,\n",
       "  10,\n",
       "  30,\n",
       "  37,\n",
       "  17,\n",
       "  1,\n",
       "  2,\n",
       "  1,\n",
       "  172,\n",
       "  1,\n",
       "  1,\n",
       "  3,\n",
       "  203,\n",
       "  52,\n",
       "  5,\n",
       "  1,\n",
       "  3,\n",
       "  268,\n",
       "  75],\n",
       " 'long_seq': 688,\n",
       " 'longest_gap': 322,\n",
       " 'mls_end': ['2013-08-05',\n",
       "  '2013-09-06',\n",
       "  '2015-08-17',\n",
       "  '2015-08-19',\n",
       "  '2015-08-25',\n",
       "  '2015-09-04',\n",
       "  '2015-09-07',\n",
       "  '2015-09-12',\n",
       "  '2015-09-20',\n",
       "  '2015-09-22',\n",
       "  '2015-10-03',\n",
       "  '2015-12-02',\n",
       "  '2016-02-07',\n",
       "  '2016-03-25',\n",
       "  '2016-05-26',\n",
       "  '2016-09-26',\n",
       "  '2017-02-15',\n",
       "  '2018-01-10',\n",
       "  '2018-02-22',\n",
       "  '2018-03-09',\n",
       "  '2018-03-13',\n",
       "  '2018-10-03',\n",
       "  '2018-11-25',\n",
       "  '2018-12-01',\n",
       "  '2018-12-03',\n",
       "  '2018-12-07',\n",
       "  '2019-09-02'],\n",
       " 'mls_start': ['2013-07-05',\n",
       "  '2013-08-06',\n",
       "  '2013-09-28',\n",
       "  '2015-08-18',\n",
       "  '2015-08-21',\n",
       "  '2015-09-02',\n",
       "  '2015-09-06',\n",
       "  '2015-09-11',\n",
       "  '2015-09-19',\n",
       "  '2015-09-21',\n",
       "  '2015-10-02',\n",
       "  '2015-11-02',\n",
       "  '2016-01-08',\n",
       "  '2016-02-24',\n",
       "  '2016-03-26',\n",
       "  '2016-05-28',\n",
       "  '2016-09-27',\n",
       "  '2017-08-06',\n",
       "  '2018-01-11',\n",
       "  '2018-02-23',\n",
       "  '2018-03-12',\n",
       "  '2018-10-02',\n",
       "  '2018-11-24',\n",
       "  '2018-11-30',\n",
       "  '2018-12-02',\n",
       "  '2018-12-06',\n",
       "  '2019-09-01'],\n",
       " 'seqs': [31,\n",
       "  31,\n",
       "  688,\n",
       "  1,\n",
       "  4,\n",
       "  2,\n",
       "  1,\n",
       "  1,\n",
       "  1,\n",
       "  1,\n",
       "  1,\n",
       "  30,\n",
       "  30,\n",
       "  30,\n",
       "  61,\n",
       "  121,\n",
       "  141,\n",
       "  157,\n",
       "  42,\n",
       "  14,\n",
       "  1,\n",
       "  1,\n",
       "  1,\n",
       "  1,\n",
       "  1,\n",
       "  1,\n",
       "  1],\n",
       " 'starts': ['2012-08-17',\n",
       "  '2013-08-05',\n",
       "  '2013-09-06',\n",
       "  '2015-08-17',\n",
       "  '2015-08-19',\n",
       "  '2015-08-25',\n",
       "  '2015-09-04',\n",
       "  '2015-09-07',\n",
       "  '2015-09-12',\n",
       "  '2015-09-20',\n",
       "  '2015-09-22',\n",
       "  '2015-10-03',\n",
       "  '2015-12-02',\n",
       "  '2016-02-07',\n",
       "  '2016-03-25',\n",
       "  '2016-05-26',\n",
       "  '2016-09-26',\n",
       "  '2017-02-15',\n",
       "  '2018-01-10',\n",
       "  '2018-02-22',\n",
       "  '2018-03-09',\n",
       "  '2018-03-13',\n",
       "  '2018-10-03',\n",
       "  '2018-11-25',\n",
       "  '2018-12-01',\n",
       "  '2018-12-03',\n",
       "  '2018-12-07',\n",
       "  '2019-09-02']}"
      ]
     },
     "execution_count": 343,
     "metadata": {},
     "output_type": "execute_result"
    }
   ],
   "source": [
    "d1"
   ]
  },
  {
   "cell_type": "code",
   "execution_count": 348,
   "metadata": {},
   "outputs": [],
   "source": [
    "def get_long_seq_tup(d1):\n",
    "    for tup in list(zip(d1['seqs'],d1['mls_start'],d1['mls_end'])):\n",
    "        if d1['long_seq'] == tup[0]:\n",
    "            return tup\n",
    "\n",
    "        \n",
    "def index_for_gaps(d1,seq_start,seq_end):\n",
    "    start_gap = None\n",
    "    end_gap = None\n",
    "    for i,tup in enumerate(list(zip(d1['gaps'],d1['starts'],d1['ends']))):\n",
    "        if seq_start == tup[2]:\n",
    "            start_gap = i\n",
    "        if seq_end == tup[1]:\n",
    "            end_gap = i\n",
    "        if start_gap and end_gap:\n",
    "            return start_gap, end_gap\n",
    "    return start_gap, end_gap\n",
    "\n",
    "def get_modified_start_date_for_seq(seq_gaps, start_gap):\n",
    "    start_seq = None\n",
    "    for i in reversed(range(start_gap+1)):\n",
    "        if seq_gaps[i][0] < 45:\n",
    "            if i>0:\n",
    "                start_seq = seq_gaps[i-1][2]\n",
    "            else:\n",
    "                start_seq = seq_gaps[i][1]\n",
    "        else:\n",
    "            return start_seq\n",
    "    return start_seq\n",
    "\n",
    "\n",
    "def get_modified_seq_end_date(seq_gaps,end_gap):\n",
    "    end_seq = None\n",
    "    for i in range(end_gap,len(seq_gaps)):\n",
    "        if seq_gaps[i][0] < 45:\n",
    "            if i < len(seq_gaps)-1:\n",
    "                end_seq = seq_gaps[i+1][1]\n",
    "            else:\n",
    "                end_seq = seq_gaps[i][2]\n",
    "        else:\n",
    "            return end_seq\n",
    "    return end_seq"
   ]
  },
  {
   "cell_type": "code",
   "execution_count": 351,
   "metadata": {},
   "outputs": [],
   "source": [
    "col ='TerradOro_CA_n=1307_d=5'\n"
   ]
  },
  {
   "cell_type": "code",
   "execution_count": 257,
   "metadata": {},
   "outputs": [],
   "source": []
  },
  {
   "cell_type": "code",
   "execution_count": 352,
   "metadata": {},
   "outputs": [],
   "source": [
    "sample = filtered[col]\n",
    "d1 =get_dates_filter(filtered[col],list(filtered.index))\n",
    "seq_tuple = list(zip(d1['seqs'],d1['mls_start'],d1['mls_end']))\n",
    "seq_gaps = list(zip(d1['gaps'],d1['starts'],d1['ends']))\n",
    "if seq_tuple:\n",
    "    _,seq_start,seq_end = get_long_seq_tup(d1)\n",
    "    start_gap, end_gap = index_for_gaps(d1, seq_start,seq_end)\n",
    "    if start_gap:\n",
    "        start_seq_modified = get_modified_start_date_for_seq(seq_gaps,start_gap)\n",
    "        if start_seq_modified:\n",
    "            seq_start = start_seq_modified\n",
    "    if end_gap:\n",
    "        end_seq_modified = get_modified_seq_end_date(seq_gaps,end_gap)\n",
    "        if end_seq_modified:\n",
    "            seq_end = end_seq_modified\n",
    "    res_tup.append((col,seq_start,seq_end))"
   ]
  },
  {
   "cell_type": "code",
   "execution_count": 355,
   "metadata": {},
   "outputs": [
    {
     "data": {
      "image/png": "[encoded data removed]",
      "text/plain": [
       "<Figure size 432x288 with 1 Axes>"
      ]
     },
     "metadata": {},
     "output_type": "display_data"
    }
   ],
   "source": [
    "x = [str(i) for i in range(len(d1['gaps']))]\n",
    "plt.bar(x,d1['gaps'])  # arguments are passed to np.histogram\n",
    "plt.title(\"Histogram of gap seqyences\")\n",
    "plt.xlabel('seq number')\n",
    "plt.ylabel('gap length')\n",
    "plt.show()"
   ]
  },
  {
   "cell_type": "code",
   "execution_count": 354,
   "metadata": {},
   "outputs": [
    {
     "data": {
      "text/plain": [
       "[1246, 900]"
      ]
     },
     "execution_count": 354,
     "metadata": {},
     "output_type": "execute_result"
    }
   ],
   "source": [
    "d1['gaps']"
   ]
  },
  {
   "cell_type": "code",
   "execution_count": 371,
   "metadata": {},
   "outputs": [],
   "source": [
    "## retrieving the start and end dates for each node\n",
    "try:\n",
    "    res_tup = []\n",
    "    list_cols = list(filtered.columns)\n",
    "    list_cols.remove('date')\n",
    "    for col in list_cols:\n",
    "        sample = filtered[col]\n",
    "        sample = sample.dropna()\n",
    "        if not sample.empty and sample.shape[0]>10:\n",
    "            sample.index = pd.to_datetime(sample.index)\n",
    "            s1 =sample.resample('D').mean()\n",
    "            d1 =get_dates_filter(s1,list(filtered.index))\n",
    "            seq_tuple = list(zip(d1['seqs'],d1['mls_start'],d1['mls_end']))\n",
    "            seq_gaps = list(zip(d1['gaps'],d1['starts'],d1['ends']))\n",
    "            if seq_tuple:\n",
    "                _,seq_start,seq_end = get_long_seq_tup(d1)\n",
    "                start_gap, end_gap = index_for_gaps(d1, seq_start,seq_end)\n",
    "                if start_gap:\n",
    "                    start_seq_modified = get_modified_start_date_for_seq(seq_gaps,start_gap)\n",
    "                    if start_seq_modified:\n",
    "                        seq_start = start_seq_modified\n",
    "                if end_gap:\n",
    "                    end_seq_modified = get_modified_seq_end_date(seq_gaps,end_gap)\n",
    "                    if end_seq_modified:\n",
    "                        seq_end = end_seq_modified\n",
    "                res_tup.append((col,seq_start,seq_end))\n",
    "                \n",
    "                # x = [str(i) for i in range(len(d1['gaps']))]\n",
    "                plt.figure(figsize=(20, 10))\n",
    "                fig = plt.gcf()\n",
    "                plt.bar(d1['starts'], d1['gaps'],align='center', width=0.3)\n",
    "                plt.title(\"Histogram of gap sequences of {}\".format(col))\n",
    "                plt.xlabel('gap start date')\n",
    "                plt.ylabel('gap length')\n",
    "                fig.autofmt_xdate()\n",
    "                fig.savefig('C:/Users/M Sonakshi/Documents/soil_imgs/gaps_hist/'+col+\".png\")\n",
    "                plt.close('all') \n",
    "    resdf = pd.DataFrame(res_tup,columns =['node','start_date','end_date'])\n",
    "    resdf.to_csv(\"C:/Users/M Sonakshi/Documents/soil_imgs/gaps_hist/sequence_date.csv\",index=None)\n",
    "except Exception as e:\n",
    "    print(e)"
   ]
  },
  {
   "cell_type": "code",
   "execution_count": null,
   "metadata": {},
   "outputs": [],
   "source": []
  },
  {
   "cell_type": "code",
   "execution_count": null,
   "metadata": {},
   "outputs": [],
   "source": []
  },
  {
   "cell_type": "code",
   "execution_count": 103,
   "metadata": {},
   "outputs": [],
   "source": []
  },
  {
   "cell_type": "code",
   "execution_count": 309,
   "metadata": {},
   "outputs": [],
   "source": [
    "def find_longest_seq_count(s1):\n",
    "    max_val = 0\n",
    "    longest_gap = 0\n",
    "    long_seq = 0\n",
    "    max_long_seq = 0\n",
    "    num_gaps=0\n",
    "    no_nulls=True\n",
    "    for val in s1:\n",
    "        if isNaN(val):\n",
    "            if max_val==0:\n",
    "                num_gaps+=1\n",
    "            no_nulls=False\n",
    "            max_val+=1\n",
    "            if max_long_seq<long_seq:\n",
    "                max_long_seq = long_seq\n",
    "            long_seq = 0\n",
    "        else:\n",
    "            long_seq+=1\n",
    "            if longest_gap<max_val:\n",
    "                longest_gap = max_val\n",
    "            max_val = 0\n",
    "    if max_long_seq<long_seq:\n",
    "        max_long_seq = long_seq\n",
    "    if longest_gap<max_val:\n",
    "        longest_gap = max_val\n",
    "    if no_nulls:\n",
    "        max_long_seq = s1.shape[0]\n",
    "    return max_long_seq, longest_gap,num_gaps"
   ]
  },
  {
   "cell_type": "code",
   "execution_count": 107,
   "metadata": {},
   "outputs": [],
   "source": [
    "## plotting the outliers for each node and saving the stats of gaps, filled sequences to a csv file\n",
    "s1=None\n",
    "outlier_list =[]\n",
    "try:\n",
    "    list_dict = []\n",
    "    list_cols = list(filtered.columns)\n",
    "    list_cols.remove('date')\n",
    "    for col in list_cols:\n",
    "        d1={}\n",
    "        sample = filtered[col]\n",
    "        sample = sample.dropna()\n",
    "        if not sample.empty and sample.shape[0]>10:\n",
    "            sample.index = pd.to_datetime(sample.index)\n",
    "            d1['site'] = col.split(\"n=\")[0]\n",
    "            node_id = col.split(\"n=\")[1].split(\"_\")[0]\n",
    "            d1['depth'] = col.split(\"n=\")[1].split(\"_d=\")[1]\n",
    "            s1 =sample.resample('D').mean()\n",
    "            s = validate_series(s1)\n",
    "            iqr_ad = InterQuartileRangeAD(c=1.5)\n",
    "            anomalies = iqr_ad.fit_detect(s)\n",
    "#             a=anomalies[~isNaN(anomalies)]\n",
    "#             a=a[a>0]\n",
    "#             if not a.empty:\n",
    "#                 s = s.dropna()\n",
    "#                 s[s.index.isin(list(a.index))] = np.nan\n",
    "#                 s = pd.DataFrame(s)\n",
    "#                 s = s.assign(InterpolateTime=s.interpolate(method='time'))\n",
    "#                 s[col] = sample\n",
    "#                 anomalies1 = iqr_ad.fit_detect(s)\n",
    "#                 if anomalies1[anomalies1.InterpolateTime>0]['InterpolateTime'].shape[0]>0:\n",
    "            plot(s, anomaly=anomalies, ts_linewidth=1, ts_markersize=3, anomaly_markersize=5, anomaly_color='red', anomaly_tag=\"marker\");\n",
    "            fig = plt.gcf()\n",
    "            plt.xlabel('date')\n",
    "            plt.ylabel('soil moisture')\n",
    "            plt.title(\"SITE = \" + d1['site']+ \",  NODE_ID = \" + node_id + \",  DEPTH = \"+d1['depth'])\n",
    "            fig.savefig('C:/Users/M Sonakshi/Documents/soil_imgs/countVis/'+col+\".png\")\n",
    "            plt.close('all')           \n",
    "            d1['node_id'] = node_id\n",
    "            d1['total_rows'] = s1.shape[0]\n",
    "            d1['start'] =  s1.index[0].date()\n",
    "            d1['end'] =  s1.index[-1].date()\n",
    "            max_long_seq, longest_gap,num_gaps = find_longest_seq_count(s1)\n",
    "            d1['nulls'] = s1.isnull().sum()\n",
    "            d1['filled_percentage'] = 1 - d1['nulls']/float(d1['total_rows'])\n",
    "            d1['longest_gap'] = longest_gap\n",
    "            d1['longest_seq'] = max_long_seq\n",
    "            d1['num_gaps'] = num_gaps\n",
    "            list_dict.append(d1)\n",
    "    with open(\"C:/Users/M Sonakshi/Documents/soil_imgs/countVis/nodewisefiltered.csv\",'w',newline=\"\") as f:\n",
    "        keys = list_dict[0].keys()\n",
    "        writer = csv.DictWriter(f,['site','node_id','depth','start','end','nulls','total_rows','filled_percentage','longest_gap','longest_seq','num_gaps'])\n",
    "        writer.writeheader()\n",
    "        writer.writerows(list_dict)\n",
    "except Exception as e:\n",
    "    print(e)\n",
    "#     print(s1)\n",
    "                "
   ]
  },
  {
   "cell_type": "code",
   "execution_count": 181,
   "metadata": {},
   "outputs": [
    {
     "data": {
      "text/plain": [
       "357"
      ]
     },
     "execution_count": 181,
     "metadata": {},
     "output_type": "execute_result"
    }
   ],
   "source": [
    "len(outlier_list)"
   ]
  },
  {
   "cell_type": "code",
   "execution_count": 182,
   "metadata": {},
   "outputs": [
    {
     "data": {
      "text/plain": [
       "603"
      ]
     },
     "execution_count": 182,
     "metadata": {},
     "output_type": "execute_result"
    }
   ],
   "source": [
    "len(list_cols)"
   ]
  },
  {
   "cell_type": "code",
   "execution_count": 310,
   "metadata": {},
   "outputs": [],
   "source": [
    "data = pd.read_csv(\"C:/Users/M Sonakshi/Documents/soil_imgs/docs/nodewisefiltered.csv\")"
   ]
  },
  {
   "cell_type": "code",
   "execution_count": 311,
   "metadata": {},
   "outputs": [
    {
     "data": {
      "text/html": [
       "<div>\n",
       "<style scoped>\n",
       "    .dataframe tbody tr th:only-of-type {\n",
       "        vertical-align: middle;\n",
       "    }\n",
       "\n",
       "    .dataframe tbody tr th {\n",
       "        vertical-align: top;\n",
       "    }\n",
       "\n",
       "    .dataframe thead th {\n",
       "        text-align: right;\n",
       "    }\n",
       "</style>\n",
       "<table border=\"1\" class=\"dataframe\">\n",
       "  <thead>\n",
       "    <tr style=\"text-align: right;\">\n",
       "      <th></th>\n",
       "      <th>site</th>\n",
       "      <th>node_id</th>\n",
       "      <th>depth</th>\n",
       "      <th>start</th>\n",
       "      <th>end</th>\n",
       "      <th>nulls</th>\n",
       "      <th>total_rows</th>\n",
       "      <th>filled_percentage</th>\n",
       "      <th>longest_gap</th>\n",
       "      <th>longest_seq</th>\n",
       "    </tr>\n",
       "  </thead>\n",
       "  <tbody>\n",
       "    <tr>\n",
       "      <th>0</th>\n",
       "      <td>TerradOro_CA_</td>\n",
       "      <td>1303</td>\n",
       "      <td>5</td>\n",
       "      <td>2016-01-14</td>\n",
       "      <td>2017-05-29</td>\n",
       "      <td>1</td>\n",
       "      <td>502</td>\n",
       "      <td>0.998008</td>\n",
       "      <td>1</td>\n",
       "      <td>500</td>\n",
       "    </tr>\n",
       "    <tr>\n",
       "      <th>5</th>\n",
       "      <td>BLMLa</td>\n",
       "      <td>903</td>\n",
       "      <td>20</td>\n",
       "      <td>2013-07-06</td>\n",
       "      <td>2019-09-01</td>\n",
       "      <td>858</td>\n",
       "      <td>2249</td>\n",
       "      <td>0.618497</td>\n",
       "      <td>268</td>\n",
       "      <td>411</td>\n",
       "    </tr>\n",
       "    <tr>\n",
       "      <th>6</th>\n",
       "      <td>TerradOro_CA_</td>\n",
       "      <td>1317</td>\n",
       "      <td>-992</td>\n",
       "      <td>2016-01-14</td>\n",
       "      <td>2017-09-28</td>\n",
       "      <td>121</td>\n",
       "      <td>624</td>\n",
       "      <td>0.806090</td>\n",
       "      <td>121</td>\n",
       "      <td>502</td>\n",
       "    </tr>\n",
       "    <tr>\n",
       "      <th>8</th>\n",
       "      <td>TerradOro_CA</td>\n",
       "      <td>817</td>\n",
       "      <td>15</td>\n",
       "      <td>2013-04-06</td>\n",
       "      <td>2015-03-18</td>\n",
       "      <td>186</td>\n",
       "      <td>712</td>\n",
       "      <td>0.738764</td>\n",
       "      <td>72</td>\n",
       "      <td>302</td>\n",
       "    </tr>\n",
       "    <tr>\n",
       "      <th>11</th>\n",
       "      <td>TerradOro_CA_</td>\n",
       "      <td>1308</td>\n",
       "      <td>30</td>\n",
       "      <td>2016-01-14</td>\n",
       "      <td>2017-05-29</td>\n",
       "      <td>1</td>\n",
       "      <td>502</td>\n",
       "      <td>0.998008</td>\n",
       "      <td>1</td>\n",
       "      <td>500</td>\n",
       "    </tr>\n",
       "  </tbody>\n",
       "</table>\n",
       "</div>"
      ],
      "text/plain": [
       "             site  node_id  depth       start         end  nulls  total_rows  \\\n",
       "0   TerradOro_CA_     1303      5  2016-01-14  2017-05-29      1         502   \n",
       "5           BLMLa      903     20  2013-07-06  2019-09-01    858        2249   \n",
       "6   TerradOro_CA_     1317   -992  2016-01-14  2017-09-28    121         624   \n",
       "8    TerradOro_CA      817     15  2013-04-06  2015-03-18    186         712   \n",
       "11  TerradOro_CA_     1308     30  2016-01-14  2017-05-29      1         502   \n",
       "\n",
       "    filled_percentage  longest_gap  longest_seq  \n",
       "0            0.998008            1          500  \n",
       "5            0.618497          268          411  \n",
       "6            0.806090          121          502  \n",
       "8            0.738764           72          302  \n",
       "11           0.998008            1          500  "
      ]
     },
     "execution_count": 311,
     "metadata": {},
     "output_type": "execute_result"
    }
   ],
   "source": [
    "data[ (data['longest_seq']>=300)].head()"
   ]
  },
  {
   "cell_type": "code",
   "execution_count": 323,
   "metadata": {},
   "outputs": [
    {
     "data": {
      "text/plain": [
       "0.02149260616942221"
      ]
     },
     "execution_count": 323,
     "metadata": {},
     "output_type": "execute_result"
    }
   ],
   "source": [
    "data[data['filled_percentage']==1]['total_rows'].sum()/data['total_rows'].sum()"
   ]
  },
  {
   "cell_type": "code",
   "execution_count": 313,
   "metadata": {},
   "outputs": [
    {
     "data": {
      "text/plain": [
       "0.11467918505772923"
      ]
     },
     "execution_count": 313,
     "metadata": {},
     "output_type": "execute_result"
    }
   ],
   "source": [
    "data[data['filled_percentage']>=0.9]['total_rows'].sum()/data['total_rows'].sum()"
   ]
  },
  {
   "cell_type": "code",
   "execution_count": 324,
   "metadata": {},
   "outputs": [
    {
     "data": {
      "text/plain": [
       "641616"
      ]
     },
     "execution_count": 324,
     "metadata": {},
     "output_type": "execute_result"
    }
   ],
   "source": [
    "data['total_rows'].sum()"
   ]
  },
  {
   "cell_type": "code",
   "execution_count": 314,
   "metadata": {},
   "outputs": [
    {
     "data": {
      "text/plain": [
       "0.20298589810727913"
      ]
     },
     "execution_count": 314,
     "metadata": {},
     "output_type": "execute_result"
    }
   ],
   "source": [
    "data[data['filled_percentage']>=0.8]['total_rows'].sum()/data['total_rows'].sum()"
   ]
  },
  {
   "cell_type": "code",
   "execution_count": 315,
   "metadata": {},
   "outputs": [
    {
     "data": {
      "text/plain": [
       "0.36185974165232787"
      ]
     },
     "execution_count": 315,
     "metadata": {},
     "output_type": "execute_result"
    }
   ],
   "source": [
    "data[data['filled_percentage']>=0.7]['total_rows'].sum()/data['total_rows'].sum()"
   ]
  },
  {
   "cell_type": "code",
   "execution_count": 316,
   "metadata": {},
   "outputs": [
    {
     "data": {
      "text/plain": [
       "0.5350567940949104"
      ]
     },
     "execution_count": 316,
     "metadata": {},
     "output_type": "execute_result"
    }
   ],
   "source": [
    "data[data['filled_percentage']>=0.6]['total_rows'].sum()/data['total_rows'].sum()"
   ]
  },
  {
   "cell_type": "code",
   "execution_count": 325,
   "metadata": {},
   "outputs": [
    {
     "data": {
      "text/plain": [
       "125915"
      ]
     },
     "execution_count": 325,
     "metadata": {},
     "output_type": "execute_result"
    }
   ],
   "source": [
    "data[(data['longest_seq']>=300)]['longest_seq'].sum()"
   ]
  },
  {
   "cell_type": "code",
   "execution_count": 439,
   "metadata": {},
   "outputs": [
    {
     "data": {
      "text/plain": [
       "0.017973536307593865"
      ]
     },
     "execution_count": 439,
     "metadata": {},
     "output_type": "execute_result"
    }
   ],
   "source": [
    "data[data['filled_percentage']<=0.1]['total_rows'].sum()/data['total_rows'].sum()"
   ]
  },
  {
   "cell_type": "code",
   "execution_count": 440,
   "metadata": {},
   "outputs": [
    {
     "data": {
      "image/png": "[encoded data removed]",
      "text/plain": [
       "<Figure size 432x288 with 1 Axes>"
      ]
     },
     "metadata": {
      "needs_background": "light"
     },
     "output_type": "display_data"
    }
   ],
   "source": [
    "_ = plt.hist(data[data['filled_percentage']<1.0]['longest_seq'], bins='auto')  # arguments are passed to np.histogram\n",
    "plt.title(\"Histogram with 'auto' bins\")\n",
    "plt.show()"
   ]
  },
  {
   "cell_type": "code",
   "execution_count": 8,
   "metadata": {},
   "outputs": [],
   "source": []
  },
  {
   "cell_type": "code",
   "execution_count": 502,
   "metadata": {},
   "outputs": [
    {
     "name": "stdout",
     "output_type": "stream",
     "text": [
      "can't multiply sequence by non-int of type 'float'\n",
      "date\n",
      "2011-08-03    2011-08-03\n",
      "2011-08-04    2011-08-04\n",
      "2011-08-05    2011-08-05\n",
      "2011-08-06    2011-08-06\n",
      "2011-08-07    2011-08-07\n",
      "2011-08-08    2011-08-08\n",
      "2011-08-09    2011-08-09\n",
      "2011-08-10    2011-08-10\n",
      "2011-08-11    2011-08-11\n",
      "2011-08-12    2011-08-12\n",
      "2011-08-13    2011-08-13\n",
      "2011-08-14    2011-08-14\n",
      "2011-08-15    2011-08-15\n",
      "2011-08-16    2011-08-16\n",
      "2011-08-17    2011-08-17\n",
      "2011-08-18    2011-08-18\n",
      "2011-08-19    2011-08-19\n",
      "2011-08-20    2011-08-20\n",
      "2011-08-21    2011-08-21\n",
      "2011-08-22    2011-08-22\n",
      "2011-08-23    2011-08-23\n",
      "2011-08-24    2011-08-24\n",
      "2011-08-25    2011-08-25\n",
      "2011-08-26    2011-08-26\n",
      "2011-08-27    2011-08-27\n",
      "2011-08-28    2011-08-28\n",
      "2011-08-29    2011-08-29\n",
      "2011-08-30    2011-08-30\n",
      "2011-08-31    2011-08-31\n",
      "2011-09-01    2011-09-01\n",
      "                 ...    \n",
      "2019-10-17    2019-10-17\n",
      "2019-10-18    2019-10-18\n",
      "2019-10-19    2019-10-19\n",
      "2019-10-20    2019-10-20\n",
      "2019-10-21    2019-10-21\n",
      "2019-10-22    2019-10-22\n",
      "2019-10-23    2019-10-23\n",
      "2019-10-24    2019-10-24\n",
      "2019-10-25    2019-10-25\n",
      "2019-10-26    2019-10-26\n",
      "2019-10-27    2019-10-27\n",
      "2019-10-28    2019-10-28\n",
      "2019-10-29    2019-10-29\n",
      "2019-10-30    2019-10-30\n",
      "2019-10-31    2019-10-31\n",
      "2019-11-01    2019-11-01\n",
      "2019-11-02    2019-11-02\n",
      "2019-11-03    2019-11-03\n",
      "2019-11-04    2019-11-04\n",
      "2019-11-05    2019-11-05\n",
      "2019-11-06    2019-11-06\n",
      "2019-11-07    2019-11-07\n",
      "2019-11-08    2019-11-08\n",
      "2019-11-09    2019-11-09\n",
      "2019-11-10    2019-11-10\n",
      "2019-11-11    2019-11-11\n",
      "2019-11-12    2019-11-12\n",
      "2019-11-13    2019-11-13\n",
      "2019-11-14    2019-11-14\n",
      "2019-11-15    2019-11-15\n",
      "Freq: D, Name: date, Length: 3027, dtype: object\n",
      "Valid values are not enough for training.\n",
      "date\n",
      "2011-08-03   NaN\n",
      "2011-08-04   NaN\n",
      "2011-08-05   NaN\n",
      "2011-08-06   NaN\n",
      "2011-08-07   NaN\n",
      "2011-08-08   NaN\n",
      "2011-08-09   NaN\n",
      "2011-08-10   NaN\n",
      "2011-08-11   NaN\n",
      "2011-08-12   NaN\n",
      "2011-08-13   NaN\n",
      "2011-08-14   NaN\n",
      "2011-08-15   NaN\n",
      "2011-08-16   NaN\n",
      "2011-08-17   NaN\n",
      "2011-08-18   NaN\n",
      "2011-08-19   NaN\n",
      "2011-08-20   NaN\n",
      "2011-08-21   NaN\n",
      "2011-08-22   NaN\n",
      "2011-08-23   NaN\n",
      "2011-08-24   NaN\n",
      "2011-08-25   NaN\n",
      "2011-08-26   NaN\n",
      "2011-08-27   NaN\n",
      "2011-08-28   NaN\n",
      "2011-08-29   NaN\n",
      "2011-08-30   NaN\n",
      "2011-08-31   NaN\n",
      "2011-09-01   NaN\n",
      "              ..\n",
      "2019-10-17   NaN\n",
      "2019-10-18   NaN\n",
      "2019-10-19   NaN\n",
      "2019-10-20   NaN\n",
      "2019-10-21   NaN\n",
      "2019-10-22   NaN\n",
      "2019-10-23   NaN\n",
      "2019-10-24   NaN\n",
      "2019-10-25   NaN\n",
      "2019-10-26   NaN\n",
      "2019-10-27   NaN\n",
      "2019-10-28   NaN\n",
      "2019-10-29   NaN\n",
      "2019-10-30   NaN\n",
      "2019-10-31   NaN\n",
      "2019-11-01   NaN\n",
      "2019-11-02   NaN\n",
      "2019-11-03   NaN\n",
      "2019-11-04   NaN\n",
      "2019-11-05   NaN\n",
      "2019-11-06   NaN\n",
      "2019-11-07   NaN\n",
      "2019-11-08   NaN\n",
      "2019-11-09   NaN\n",
      "2019-11-10   NaN\n",
      "2019-11-11   NaN\n",
      "2019-11-12   NaN\n",
      "2019-11-13   NaN\n",
      "2019-11-14   NaN\n",
      "2019-11-15   NaN\n",
      "Freq: D, Name: TerradOro_CAn=823_d=90, Length: 3027, dtype: float64\n",
      "<built-in method write of _io.BufferedWriter object at 0x0000024AB99DC0F8> returned a result with an error set\n",
      "date\n",
      "2011-08-03   NaN\n",
      "2011-08-04   NaN\n",
      "2011-08-05   NaN\n",
      "2011-08-06   NaN\n",
      "2011-08-07   NaN\n",
      "2011-08-08   NaN\n",
      "2011-08-09   NaN\n",
      "2011-08-10   NaN\n",
      "2011-08-11   NaN\n",
      "2011-08-12   NaN\n",
      "2011-08-13   NaN\n",
      "2011-08-14   NaN\n",
      "2011-08-15   NaN\n",
      "2011-08-16   NaN\n",
      "2011-08-17   NaN\n",
      "2011-08-18   NaN\n",
      "2011-08-19   NaN\n",
      "2011-08-20   NaN\n",
      "2011-08-21   NaN\n",
      "2011-08-22   NaN\n",
      "2011-08-23   NaN\n",
      "2011-08-24   NaN\n",
      "2011-08-25   NaN\n",
      "2011-08-26   NaN\n",
      "2011-08-27   NaN\n",
      "2011-08-28   NaN\n",
      "2011-08-29   NaN\n",
      "2011-08-30   NaN\n",
      "2011-08-31   NaN\n",
      "2011-09-01   NaN\n",
      "              ..\n",
      "2019-10-17   NaN\n",
      "2019-10-18   NaN\n",
      "2019-10-19   NaN\n",
      "2019-10-20   NaN\n",
      "2019-10-21   NaN\n",
      "2019-10-22   NaN\n",
      "2019-10-23   NaN\n",
      "2019-10-24   NaN\n",
      "2019-10-25   NaN\n",
      "2019-10-26   NaN\n",
      "2019-10-27   NaN\n",
      "2019-10-28   NaN\n",
      "2019-10-29   NaN\n",
      "2019-10-30   NaN\n",
      "2019-10-31   NaN\n",
      "2019-11-01   NaN\n",
      "2019-11-02   NaN\n",
      "2019-11-03   NaN\n",
      "2019-11-04   NaN\n",
      "2019-11-05   NaN\n",
      "2019-11-06   NaN\n",
      "2019-11-07   NaN\n",
      "2019-11-08   NaN\n",
      "2019-11-09   NaN\n",
      "2019-11-10   NaN\n",
      "2019-11-11   NaN\n",
      "2019-11-12   NaN\n",
      "2019-11-13   NaN\n",
      "2019-11-14   NaN\n",
      "2019-11-15   NaN\n",
      "Freq: D, Name: TerradOro_CA_n=1307_d=42, Length: 3027, dtype: float64\n"
     ]
    },
    {
     "name": "stderr",
     "output_type": "stream",
     "text": [
      "ERROR:root:Internal Python error in the inspect module.\n",
      "Below is the traceback from this internal error.\n",
      "\n"
     ]
    },
    {
     "name": "stdout",
     "output_type": "stream",
     "text": [
      "Traceback (most recent call last):\n",
      "  File \"c:\\users\\msonak~1\\penv\\lib\\site-packages\\IPython\\core\\interactiveshell.py\", line 3326, in run_code\n",
      "    exec(code_obj, self.user_global_ns, self.user_ns)\n",
      "  File \"<ipython-input-502-6c9e64e7c40c>\", line 10, in <module>\n",
      "    fig.savefig('C:/Users/M Sonakshi/Documents/soil_imgs/anamolies/'+col+\".png\")\n",
      "  File \"c:\\users\\msonak~1\\penv\\lib\\site-packages\\matplotlib\\figure.py\", line 2094, in savefig\n",
      "    self.canvas.print_figure(fname, **kwargs)\n",
      "  File \"c:\\users\\msonak~1\\penv\\lib\\site-packages\\matplotlib\\backend_bases.py\", line 2075, in print_figure\n",
      "    **kwargs)\n",
      "  File \"c:\\users\\msonak~1\\penv\\lib\\site-packages\\matplotlib\\backends\\backend_agg.py\", line 510, in print_png\n",
      "    FigureCanvasAgg.draw(self)\n",
      "  File \"c:\\users\\msonak~1\\penv\\lib\\site-packages\\matplotlib\\backends\\backend_agg.py\", line 402, in draw\n",
      "    self.figure.draw(self.renderer)\n",
      "  File \"c:\\users\\msonak~1\\penv\\lib\\site-packages\\matplotlib\\artist.py\", line 50, in draw_wrapper\n",
      "    return draw(artist, renderer, *args, **kwargs)\n",
      "  File \"c:\\users\\msonak~1\\penv\\lib\\site-packages\\matplotlib\\figure.py\", line 1649, in draw\n",
      "    renderer, self, artists, self.suppressComposite)\n",
      "  File \"c:\\users\\msonak~1\\penv\\lib\\site-packages\\matplotlib\\image.py\", line 138, in _draw_list_compositing_images\n",
      "    a.draw(renderer)\n",
      "  File \"c:\\users\\msonak~1\\penv\\lib\\site-packages\\matplotlib\\artist.py\", line 50, in draw_wrapper\n",
      "    return draw(artist, renderer, *args, **kwargs)\n",
      "  File \"c:\\users\\msonak~1\\penv\\lib\\site-packages\\matplotlib\\axes\\_base.py\", line 2628, in draw\n",
      "    mimage._draw_list_compositing_images(renderer, self, artists)\n",
      "  File \"c:\\users\\msonak~1\\penv\\lib\\site-packages\\matplotlib\\image.py\", line 138, in _draw_list_compositing_images\n",
      "    a.draw(renderer)\n",
      "  File \"c:\\users\\msonak~1\\penv\\lib\\site-packages\\matplotlib\\artist.py\", line 50, in draw_wrapper\n",
      "    return draw(artist, renderer, *args, **kwargs)\n",
      "  File \"c:\\users\\msonak~1\\penv\\lib\\site-packages\\matplotlib\\axis.py\", line 1201, in draw\n",
      "    self._update_offset_text_position(ticklabelBoxes, ticklabelBoxes2)\n",
      "  File \"c:\\users\\msonak~1\\penv\\lib\\site-packages\\matplotlib\\axis.py\", line 1976, in _update_offset_text_position\n",
      "    bbox = mtransforms.Bbox.union(bboxes)\n",
      "  File \"c:\\users\\msonak~1\\penv\\lib\\site-packages\\matplotlib\\transforms.py\", line 736, in union\n",
      "    y1 = np.max([bbox.ymax for bbox in bboxes])\n",
      "  File \"<__array_function__ internals>\", line 6, in amax\n",
      "  File \"c:\\users\\msonak~1\\penv\\lib\\site-packages\\numpy\\core\\fromnumeric.py\", line 2668, in amax\n",
      "    keepdims=keepdims, initial=initial, where=where)\n",
      "  File \"c:\\users\\msonak~1\\penv\\lib\\site-packages\\numpy\\core\\fromnumeric.py\", line 90, in _wrapreduction\n",
      "    return ufunc.reduce(obj, axis, dtype, out, **passkwargs)\n",
      "KeyboardInterrupt\n",
      "\n",
      "During handling of the above exception, another exception occurred:\n",
      "\n",
      "Traceback (most recent call last):\n",
      "  File \"c:\\users\\msonak~1\\penv\\lib\\site-packages\\IPython\\core\\interactiveshell.py\", line 2040, in showtraceback\n",
      "    stb = value._render_traceback_()\n",
      "AttributeError: 'KeyboardInterrupt' object has no attribute '_render_traceback_'\n",
      "\n",
      "During handling of the above exception, another exception occurred:\n",
      "\n",
      "Traceback (most recent call last):\n",
      "  File \"c:\\users\\msonak~1\\penv\\lib\\site-packages\\IPython\\core\\ultratb.py\", line 1101, in get_records\n",
      "    return _fixed_getinnerframes(etb, number_of_lines_of_context, tb_offset)\n",
      "  File \"c:\\users\\msonak~1\\penv\\lib\\site-packages\\IPython\\core\\ultratb.py\", line 319, in wrapped\n",
      "    return f(*args, **kwargs)\n",
      "  File \"c:\\users\\msonak~1\\penv\\lib\\site-packages\\IPython\\core\\ultratb.py\", line 353, in _fixed_getinnerframes\n",
      "    records = fix_frame_records_filenames(inspect.getinnerframes(etb, context))\n",
      "  File \"c:\\users\\m sonakshi\\python35\\Lib\\inspect.py\", line 1453, in getinnerframes\n",
      "    frameinfo = (tb.tb_frame,) + getframeinfo(tb, context)\n",
      "  File \"c:\\users\\m sonakshi\\python35\\Lib\\inspect.py\", line 1410, in getframeinfo\n",
      "    filename = getsourcefile(frame) or getfile(frame)\n",
      "  File \"c:\\users\\m sonakshi\\python35\\Lib\\inspect.py\", line 669, in getsourcefile\n",
      "    if os.path.exists(filename):\n",
      "  File \"c:\\users\\msonak~1\\penv\\lib\\genericpath.py\", line 19, in exists\n",
      "    os.stat(path)\n",
      "KeyboardInterrupt\n"
     ]
    },
    {
     "ename": "KeyboardInterrupt",
     "evalue": "",
     "traceback": [
      "\u001b[1;31m---------------------------------------------------------------------------\u001b[0m"
     ],
     "output_type": "error"
    },
    {
     "data": {
      "image/png": "[encoded data removed]",
      "text/plain": [
       "<Figure size 1152x288 with 1 Axes>"
      ]
     },
     "metadata": {},
     "output_type": "display_data"
    }
   ],
   "source": [
    "# for col in filtered.columns:\n",
    "#     try:\n",
    "#         s = filtered[col]\n",
    "#         s.index = pd.DatetimeIndex(filtered.index)\n",
    "#         s = validate_series(s)\n",
    "#         iqr_ad = InterQuartileRangeAD(c=1.5)\n",
    "#         anomalies = iqr_ad.fit_detect(s)\n",
    "#         plot(s, anomaly=anomalies, ts_linewidth=1, ts_markersize=3, anomaly_markersize=5, anomaly_color='red', anomaly_tag=\"marker\");\n",
    "#         fig = plt.gcf()\n",
    "#         fig.savefig('C:/Users/M Sonakshi/Documents/soil_imgs/anamolies/'+col+\".png\")\n",
    "#         plt.close('all')\n",
    "#     except Exception as e:\n",
    "#         print(e)\n",
    "#         print(s)"
   ]
  },
  {
   "cell_type": "code",
   "execution_count": 306,
   "metadata": {},
   "outputs": [
    {
     "data": {
      "image/png": "[encoded data removed]",
      "text/plain": [
       "<Figure size 1152x288 with 1 Axes>"
      ]
     },
     "metadata": {},
     "output_type": "display_data"
    }
   ],
   "source": [
    "col = \"BLMLand3NTonzi_CA_n=1202_d=42\"\n",
    "s1 = filtered[col]\n",
    "s1.index = pd.to_datetime(filtered.index)\n",
    "s1 =s1.dropna()\n",
    "s = validate_series(s1)\n",
    "iqr_ad = InterQuartileRangeAD(c=1.5)\n",
    "anomalies = iqr_ad.fit_detect(s)\n",
    "ax = plot(s, anomaly=anomalies, ts_linewidth=1, ts_markersize=3, anomaly_markersize=5, anomaly_color='red', anomaly_tag=\"marker\");\n",
    "# fig = plt.gcf()\n",
    "# plt.xlabel('date')\n",
    "# plt.ylabel('soil moisture')\n",
    "# plt.title(\"SITE = \" + \"Kendall_AZ\"+ \",  NODE_ID = \" + \"1406\"+\",  DEPTH = \"+\"15\")\n",
    "# fig.savefig('output.png')"
   ]
  },
  {
   "cell_type": "code",
   "execution_count": 307,
   "metadata": {},
   "outputs": [
    {
     "data": {
      "image/png": "[encoded data removed]",
      "text/plain": [
       "<Figure size 1152x576 with 2 Axes>"
      ]
     },
     "metadata": {},
     "output_type": "display_data"
    }
   ],
   "source": [
    "a=anomalies[~isNaN(anomalies)]\n",
    "a=a[a>0]\n",
    "s[s.index.isin(list(a.index))] = np.nan\n",
    "s = pd.DataFrame(s)\n",
    "samp=s\n",
    "s = s.assign(InterpolateTime=s.interpolate(method='time'))\n",
    "s[col] = s1\n",
    "anomalies1 = iqr_ad.fit_detect(s)\n",
    "ax = plot(s, anomaly=anomalies1, ts_linewidth=1, ts_markersize=3, anomaly_markersize=5, anomaly_color='red', anomaly_tag=\"marker\");"
   ]
  },
  {
   "cell_type": "code",
   "execution_count": null,
   "metadata": {},
   "outputs": [],
   "source": []
  },
  {
   "cell_type": "code",
   "execution_count": null,
   "metadata": {},
   "outputs": [],
   "source": []
  },
  {
   "cell_type": "code",
   "execution_count": 257,
   "metadata": {},
   "outputs": [],
   "source": [
    "s['Kendall_AZ_n=1406_d=5'] = filtered['Kendall_AZ_n=1406_d=5']"
   ]
  },
  {
   "cell_type": "code",
   "execution_count": 270,
   "metadata": {},
   "outputs": [],
   "source": [
    "s=s.InterpolateTime"
   ]
  },
  {
   "cell_type": "code",
   "execution_count": 274,
   "metadata": {},
   "outputs": [
    {
     "data": {
      "image/png": "[encoded data removed]",
      "text/plain": [
       "<Figure size 1152x288 with 1 Axes>"
      ]
     },
     "metadata": {},
     "output_type": "display_data"
    }
   ],
   "source": [
    "s = validate_series(s)\n",
    "iqr_ad = InterQuartileRangeAD(c=1.5)\n",
    "anomalies1 = iqr_ad.fit_detect(s)\n",
    "ax = plot(s, anomaly=anomalies1, ts_linewidth=1, ts_markersize=3, anomaly_markersize=5, anomaly_color='red', anomaly_tag=\"marker\");"
   ]
  },
  {
   "cell_type": "code",
   "execution_count": 272,
   "metadata": {},
   "outputs": [
    {
     "data": {
      "text/plain": [
       "count    152.000000\n",
       "mean       2.595868\n",
       "std        3.773689\n",
       "min        0.100000\n",
       "25%        0.100000\n",
       "50%        0.100000\n",
       "75%        4.485500\n",
       "max       12.689787\n",
       "Name: InterpolateTime, dtype: float64"
      ]
     },
     "execution_count": 272,
     "metadata": {},
     "output_type": "execute_result"
    }
   ],
   "source": [
    "s.describe()"
   ]
  },
  {
   "cell_type": "code",
   "execution_count": null,
   "metadata": {},
   "outputs": [],
   "source": []
  },
  {
   "cell_type": "code",
   "execution_count": null,
   "metadata": {},
   "outputs": [],
   "source": []
  },
  {
   "cell_type": "code",
   "execution_count": null,
   "metadata": {},
   "outputs": [],
   "source": []
  },
  {
   "cell_type": "code",
   "execution_count": null,
   "metadata": {},
   "outputs": [],
   "source": [
    "ID = 'USC00028619'"
   ]
  },
  {
   "cell_type": "code",
   "execution_count": 102,
   "metadata": {},
   "outputs": [],
   "source": [
    "cols = ['ID', 'YEAR', 'MONTH', 'ELEMENT']\n",
    "def get_cols(cols):\n",
    "    tot_cols = []\n",
    "    tot_cols.extend(cols)\n",
    "    for i in range(1, 32):\n",
    "        tot_cols.extend(['VALUE' + str(i), 'MFLAG' + str(i), 'QFLAG' + str(i), 'SFLAG' + str(i)])\n",
    "    return tot_cols\n",
    "\n",
    "\n",
    "def get_width():\n",
    "    vals = np.array([5, 1, 1, 1] * 31)\n",
    "    w = [11, 4, 2, 4]\n",
    "    w.extend(vals)\n",
    "    return w\n",
    "\n",
    "\n",
    "def get_filtered_cols(cols):\n",
    "    filtered = []\n",
    "    filtered.extend(cols)\n",
    "    filtered.extend(['VALUE' + str(i) for i in range(1, 32)])\n",
    "    return filtered\n",
    "\n",
    "\n",
    "def melt_values(fil_data):\n",
    "    melted_vals = fil_data.melt(id_vars=cols, value_name='VALUE')\n",
    "    melted_vals['variable'] = melted_vals['variable'].apply(lambda x: int(x[5:]))\n",
    "    melted_vals.sort_values(['YEAR', 'MONTH', 'variable'], inplace=True)\n",
    "    return melted_vals\n",
    "\n",
    "\n",
    "def filter_melted_data(element, filter_melted_df):\n",
    "    filter_melted_df = filter_melted_df[filter_melted_df['ELEMENT'] == element]\n",
    "    return filter_melted_df\n",
    "\n",
    "\n",
    "def get_temp_data():\n",
    "    data = pd.read_fwf('C:/Users/M Sonakshi/Downloads/' + ID + '.dly', widths=get_width(), names=get_cols(cols))\n",
    "    fil_data = data[get_filtered_cols(cols)]\n",
    "    melted_vals = melt_values(fil_data)\n",
    "    melted_vals = melted_vals[melted_vals['VALUE'] != -9999]\n",
    "    del fil_data\n",
    "    return melted_vals\n",
    "\n",
    "\n",
    "def filter_element_temp_data(element, melted_vals):\n",
    "    # melted_vals = get_temp_data()\n",
    "    print(\"temp data done\")\n",
    "    melted_vals = filter_melted_data(element, melted_vals)\n",
    "    if melted_vals.empty:\n",
    "        return melted_vals\n",
    "    else:\n",
    "        melted_vals['date'] = melted_vals.apply(\n",
    "            lambda x: datetime.datetime(year=x['YEAR'], month=x['MONTH'], day=x['variable']), axis=1)\n",
    "        return melted_vals\n"
   ]
  },
  {
   "cell_type": "code",
   "execution_count": 139,
   "metadata": {},
   "outputs": [
    {
     "name": "stdout",
     "output_type": "stream",
     "text": [
      "temp data done\n"
     ]
    },
    {
     "name": "stderr",
     "output_type": "stream",
     "text": [
      "c:\\users\\msonak~1\\penv\\lib\\site-packages\\ipykernel_launcher.py:53: SettingWithCopyWarning: \n",
      "A value is trying to be set on a copy of a slice from a DataFrame.\n",
      "Try using .loc[row_indexer,col_indexer] = value instead\n",
      "\n",
      "See the caveats in the documentation: http://pandas.pydata.org/pandas-docs/stable/indexing.html#indexing-view-versus-copy\n"
     ]
    }
   ],
   "source": [
    "vals = get_temp_data()\n",
    "dft = filter_element_temp_data('PRCP',vals)"
   ]
  },
  {
   "cell_type": "code",
   "execution_count": 140,
   "metadata": {},
   "outputs": [],
   "source": [
    "# df[df['date']>'2011-01-01'].head()\n",
    "dft = dft[['VALUE','date']]\n",
    "dft['date'] = pd.to_datetime(dft['date'])"
   ]
  },
  {
   "cell_type": "code",
   "execution_count": 141,
   "metadata": {},
   "outputs": [],
   "source": [
    "kcols = [i for i in filtered.columns if re.match(\"Kendall_AZ_*\",i)]"
   ]
  },
  {
   "cell_type": "code",
   "execution_count": 142,
   "metadata": {},
   "outputs": [],
   "source": [
    "kf = filtered[kcols]"
   ]
  },
  {
   "cell_type": "code",
   "execution_count": 143,
   "metadata": {},
   "outputs": [],
   "source": [
    "kf=kf.reset_index()\n",
    "kf['date'] = pd.to_datetime(kf['date'])\n"
   ]
  },
  {
   "cell_type": "code",
   "execution_count": 144,
   "metadata": {},
   "outputs": [],
   "source": [
    "merged = kf.merge(dft, on='date')"
   ]
  },
  {
   "cell_type": "code",
   "execution_count": 145,
   "metadata": {},
   "outputs": [],
   "source": [
    "merged.index= merged['date']\n",
    "merged = merged.drop(columns=['date'])"
   ]
  },
  {
   "cell_type": "code",
   "execution_count": 203,
   "metadata": {},
   "outputs": [],
   "source": [
    "\n",
    "merged.index = pd.to_datetime(merged.index)\n",
    "m = merged[[i]]\n",
    "s = validate_series(m)\n",
    "iqr_ad = InterQuartileRangeAD(c=1.5)\n",
    "anomalies = iqr_ad.fit_detect(s)\n",
    "# plot(s, anomaly=anomalies, ts_linewidth=1, ts_markersize=3,ts_color=\"blue\", anomaly_markersize=5, anomaly_color='red', anomaly_tag=\"marker\");"
   ]
  },
  {
   "cell_type": "code",
   "execution_count": null,
   "metadata": {},
   "outputs": [],
   "source": []
  },
  {
   "cell_type": "code",
   "execution_count": null,
   "metadata": {},
   "outputs": [],
   "source": [
    "value = merged['VALUE']"
   ]
  },
  {
   "cell_type": "code",
   "execution_count": 150,
   "metadata": {},
   "outputs": [],
   "source": [
    "from sklearn import preprocessing\n",
    "\n",
    "x = merged.values #returns a numpy array\n",
    "min_max_scaler = preprocessing.MinMaxScaler()\n",
    "x_scaled = min_max_scaler.fit_transform(x)\n",
    "dfn = pd.DataFrame(x_scaled)"
   ]
  },
  {
   "cell_type": "code",
   "execution_count": 156,
   "metadata": {},
   "outputs": [],
   "source": [
    "dfn.columns = merged.columns\n",
    "dfn.index=merged.index"
   ]
  },
  {
   "cell_type": "code",
   "execution_count": 161,
   "metadata": {},
   "outputs": [],
   "source": [
    "sample = dfn[[\"Kendall_AZ_n=1400_d=5\",'VALUE']]\n",
    "sample = sample.dropna()"
   ]
  },
  {
   "cell_type": "code",
   "execution_count": 163,
   "metadata": {},
   "outputs": [
    {
     "data": {
      "text/plain": [
       "DatetimeIndex(['2015-08-17', '2015-08-18', '2015-08-19', '2015-08-20',\n",
       "               '2015-08-21', '2015-08-22', '2015-08-23', '2015-08-24',\n",
       "               '2015-08-25', '2015-08-26',\n",
       "               ...\n",
       "               '2019-02-11', '2019-02-16', '2019-02-17', '2019-03-01',\n",
       "               '2019-03-02', '2019-03-03', '2019-03-06', '2019-03-08',\n",
       "               '2019-03-14', '2019-03-26'],\n",
       "              dtype='datetime64[ns]', name='date', length=1177, freq=None)"
      ]
     },
     "execution_count": 163,
     "metadata": {},
     "output_type": "execute_result"
    }
   ],
   "source": [
    "sample.index"
   ]
  },
  {
   "cell_type": "code",
   "execution_count": 164,
   "metadata": {},
   "outputs": [
    {
     "data": {
      "image/png": "[encoded data removed]",
      "text/plain": [
       "<Figure size 1152x576 with 2 Axes>"
      ]
     },
     "metadata": {},
     "output_type": "display_data"
    }
   ],
   "source": [
    "s = validate_series(sample)\n",
    "iqr_ad = InterQuartileRangeAD(c=1.5)\n",
    "anomalies = iqr_ad.fit_detect(s)\n",
    "plot(s, anomaly=anomalies, ts_linewidth=1, ts_markersize=3,ts_color=\"blue\", anomaly_markersize=5, anomaly_color='red', anomaly_tag=\"marker\");"
   ]
  },
  {
   "cell_type": "code",
   "execution_count": 165,
   "metadata": {},
   "outputs": [
    {
     "data": {
      "text/html": [
       "<div>\n",
       "<style scoped>\n",
       "    .dataframe tbody tr th:only-of-type {\n",
       "        vertical-align: middle;\n",
       "    }\n",
       "\n",
       "    .dataframe tbody tr th {\n",
       "        vertical-align: top;\n",
       "    }\n",
       "\n",
       "    .dataframe thead th {\n",
       "        text-align: right;\n",
       "    }\n",
       "</style>\n",
       "<table border=\"1\" class=\"dataframe\">\n",
       "  <thead>\n",
       "    <tr style=\"text-align: right;\">\n",
       "      <th></th>\n",
       "      <th>Kendall_AZ_n=1400_d=5</th>\n",
       "      <th>VALUE</th>\n",
       "    </tr>\n",
       "  </thead>\n",
       "  <tbody>\n",
       "    <tr>\n",
       "      <th>Kendall_AZ_n=1400_d=5</th>\n",
       "      <td>1.000000</td>\n",
       "      <td>0.183841</td>\n",
       "    </tr>\n",
       "    <tr>\n",
       "      <th>VALUE</th>\n",
       "      <td>0.183841</td>\n",
       "      <td>1.000000</td>\n",
       "    </tr>\n",
       "  </tbody>\n",
       "</table>\n",
       "</div>"
      ],
      "text/plain": [
       "                       Kendall_AZ_n=1400_d=5     VALUE\n",
       "Kendall_AZ_n=1400_d=5               1.000000  0.183841\n",
       "VALUE                               0.183841  1.000000"
      ]
     },
     "execution_count": 165,
     "metadata": {},
     "output_type": "execute_result"
    }
   ],
   "source": [
    "sample.corr()"
   ]
  },
  {
   "cell_type": "code",
   "execution_count": null,
   "metadata": {},
   "outputs": [],
   "source": []
  }
 ],
 "metadata": {
  "kernelspec": {
   "display_name": "Python 3",
   "language": "python",
   "name": "python3"
  },
  "language_info": {
   "codemirror_mode": {
    "name": "ipython",
    "version": 3
   },
   "file_extension": ".py",
   "mimetype": "text/x-python",
   "name": "python",
   "nbconvert_exporter": "python",
   "pygments_lexer": "ipython3",
   "version": "3.5.2"
  }
 },
 "nbformat": 4,
 "nbformat_minor": 4
}
