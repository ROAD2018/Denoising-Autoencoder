{
 "cells": [
  {
   "cell_type": "code",
   "execution_count": 9,
   "metadata": {},
   "outputs": [],
   "source": [
    "import pandas as pd\n",
    "import numpy as np\n",
    "import torch\n",
    "import copy\n",
    "from torch import nn\n",
    "from torch import optim\n",
    "import torch.nn.functional as F\n",
    "from torch.autograd import Variable\n",
    "import matplotlib.pyplot as plt\n",
    "from sklearn.model_selection import train_test_split\n",
    "import time,random"
   ]
  },
  {
   "cell_type": "markdown",
   "metadata": {},
   "source": [
    "## CONSTANTS REQUIRED DURING THE ENTIRE SCRIPT"
   ]
  },
  {
   "cell_type": "code",
   "execution_count": 2,
   "metadata": {},
   "outputs": [],
   "source": [
    "epochs = 100\n",
    "learning_rate = 1e-3\n",
    "batch_size = 16\n",
    "seq_len = 24\n",
    "RANDOM_SEED = 557\n",
    "SOS_token = 0.0\n",
    "device = torch.device(\"cuda\" if torch.cuda.is_available() else \"cpu\")\n",
    "teacher_forcing_ratio = 0.5\n",
    "embedding_dim = 8\n",
    "n_features=1\n",
    "input_data_path = \"/home/sonakshireddy/Documents/soil/merged_data_tera.csv\"\n",
    "output_model_path = \"/home/sonakshireddy/Documents/soil_ae_models/\"\n",
    "output_model_file = f'ae_{seq_len}_seqlen_batch_{batch_size}_epoch_{epochs}_embedding_{embedding_dim}_lr_{learning_rate}_te_{teacher_forcing_ratio}_dp.pkl'"
   ]
  },
  {
   "cell_type": "markdown",
   "metadata": {},
   "source": [
    "## RETRIEVING DATA FROM CSV FILE AND FILTERING TO GET DATA FROM  2011 TO 2018"
   ]
  },
  {
   "cell_type": "code",
   "execution_count": 3,
   "metadata": {},
   "outputs": [],
   "source": [
    "filtered = pd.read_csv(input_data_path)\n",
    "filtered.date = pd.to_datetime(filtered.date)\n",
    "del filtered['Unnamed: 0']\n",
    "filtered.index = filtered.date\n",
    "filtered['SWC_PI_F_1_1_A'] = filtered['SWC_PI_F_1_1_A'].astype(np.float32)\n",
    "data = filtered[filtered.index.year.isin(range(2011,2019))]['SWC_PI_F_1_1_A']"
   ]
  },
  {
   "cell_type": "markdown",
   "metadata": {},
   "source": [
    "## ADD NOISE TO INPUT DATA"
   ]
  },
  {
   "cell_type": "code",
   "execution_count": 4,
   "metadata": {},
   "outputs": [],
   "source": [
    "def add_noise(x):\n",
    "    A = np.random.random(x.size())>.3\n",
    "    A = torch.tensor(A.astype(np.float32))\n",
    "    return A*x"
   ]
  },
  {
   "cell_type": "markdown",
   "metadata": {},
   "source": [
    "## CREATING INPUT AND OUTPUT SEQUENCES FROM THE DATA"
   ]
  },
  {
   "cell_type": "code",
   "execution_count": 5,
   "metadata": {},
   "outputs": [],
   "source": [
    "def get_sequence(data,batch_size,seq_len):\n",
    "    input_sequence = []\n",
    "    batch_array = []\n",
    "    for i,d in enumerate(data[:len(data)-seq_len+1]):\n",
    "        seq = data[i:i+seq_len]\n",
    "        if np.nan not in seq:\n",
    "            if len(batch_array)==batch_size:\n",
    "                input_sequence.append(np.array(batch_array,dtype=np.float32))\n",
    "                batch_array = []\n",
    "                if len(seq) == seq_len:\n",
    "                    batch_array.append(np.array(seq, dtype=np.float32).reshape(-1, 1))\n",
    "            else:\n",
    "                if len(seq) == seq_len:\n",
    "                    batch_array.append(np.array(seq, dtype=np.float32).reshape(-1, 1))\n",
    "    return input_sequence"
   ]
  },
  {
   "cell_type": "code",
   "execution_count": 6,
   "metadata": {},
   "outputs": [],
   "source": [
    "input_sequence = get_sequence(data,batch_size,seq_len)"
   ]
  },
  {
   "cell_type": "code",
   "execution_count": 7,
   "metadata": {},
   "outputs": [],
   "source": [
    "noisy_sequence = get_sequence(add_noise(torch.tensor(list(data))),batch_size,seq_len)"
   ]
  },
  {
   "cell_type": "markdown",
   "metadata": {},
   "source": [
    "### RMSE LOSS DEFINITION"
   ]
  },
  {
   "cell_type": "code",
   "execution_count": 8,
   "metadata": {},
   "outputs": [],
   "source": [
    "def RMSELoss(yhat,y):\n",
    "        return torch.sqrt(torch.mean((yhat-y)**2))"
   ]
  },
  {
   "cell_type": "markdown",
   "metadata": {},
   "source": [
    "## AUTO ENCODER WITH ATTENTION DEFINITION"
   ]
  },
  {
   "cell_type": "code",
   "execution_count": 11,
   "metadata": {},
   "outputs": [],
   "source": [
    "\n",
    "class Encoder(nn.Module):\n",
    "    def __init__(self, n_features, embedding_dim=64,batch_size = 32,num_layers=2):\n",
    "        super(Encoder, self).__init__()\n",
    "        self.n_features = n_features\n",
    "        self.hidden_dim = 2*embedding_dim\n",
    "        self.num_layers=num_layers\n",
    "        self.batch_size = batch_size\n",
    "        self.rnn1 = nn.GRU(\n",
    "            input_size=n_features,\n",
    "            hidden_size=self.hidden_dim,\n",
    "            num_layers=self.num_layers,\n",
    "            dropout=0.2,\n",
    "            batch_first=True\n",
    "        )\n",
    "       \n",
    "    def forward(self, x,hidden_n):\n",
    "        x = x.reshape((self.batch_size, 1,-1))\n",
    "        x, hidden_n = self.rnn1(x,hidden_n)\n",
    "        return x,hidden_n\n",
    "\n",
    "    def initHidden(self):\n",
    "        return torch.zeros(self.num_layers, self.batch_size, self.hidden_dim, device=device)\n",
    "\n",
    "\n",
    "class Decoder(nn.Module):\n",
    "    def __init__(self,  seq_len,input_dim=64,n_features=1,batch_size=32,num_layers=2):\n",
    "        super(Decoder, self).__init__()\n",
    "        self.input_dim = 2 * input_dim\n",
    "        self.hidden_dim, self.n_features = 2 * input_dim, n_features\n",
    "        self.seq_len = seq_len\n",
    "        self.batch_size = batch_size\n",
    "        self.num_layers=num_layers\n",
    "        self.attn = nn.Linear(self.input_dim +self.n_features, self.seq_len)\n",
    "        self.attn_combine = nn.Linear(self.input_dim + self.n_features, self.input_dim)\n",
    "        self.rnn1 = nn.GRU(\n",
    "            input_size=self.input_dim,\n",
    "            hidden_size=self.hidden_dim,\n",
    "            num_layers=self.num_layers,\n",
    "            dropout=0.2,\n",
    "            batch_first=True\n",
    "        )\n",
    "        \n",
    "        self.output_layer = nn.Linear(self.hidden_dim, n_features)\n",
    "\n",
    "    def forward(self, x, hidden_n,encoder_op):\n",
    "        x= x.view(1,self.batch_size, -1)\n",
    "        encoder_op = encoder_op.reshape((self.batch_size,self.seq_len, self.input_dim))\n",
    "        attn_weights = F.softmax(\n",
    "            self.attn(torch.cat((x[0], hidden_n[-1]), 1)), dim=1)\n",
    "        attn_applied = torch.bmm(attn_weights.unsqueeze(1),\n",
    "                                 encoder_op)\n",
    "        output = torch.cat((x[0], attn_applied.view(1,self.batch_size,-1)[0]), 1)\n",
    "        output = self.attn_combine(output).unsqueeze(0)\n",
    "        output, hidden_n = self.rnn1(output.view(self.batch_size,1,-1),hidden_n)\n",
    "        return self.output_layer(output),hidden_n\n",
    "\n",
    "    def initHidden(self):\n",
    "        return torch.zeros(self.num_layers, self.batch_size, self.hidden_dim, device=device)\n"
   ]
  },
  {
   "cell_type": "markdown",
   "metadata": {},
   "source": [
    "## TRAINING MODEL DEFINITION FOR A MINI BATCH"
   ]
  },
  {
   "cell_type": "code",
   "execution_count": 12,
   "metadata": {},
   "outputs": [],
   "source": [
    "\n",
    "def train(input_tensor, target_tensor, encoder, decoder, encoder_optimizer, decoder_optimizer, criterion):\n",
    "    encoder_hidden = encoder.initHidden()\n",
    "\n",
    "    encoder_optimizer.zero_grad()\n",
    "    decoder_optimizer.zero_grad()\n",
    "\n",
    "    input_length = input_tensor.size(0)\n",
    "    target_length = target_tensor.size(0)\n",
    "    batch_size = input_tensor.size(1)\n",
    "    encoder_outputs = torch.zeros(target_length ,batch_size,encoder.hidden_dim, device=device)\n",
    "\n",
    "    loss = 0\n",
    "    rmse_loss = 0\n",
    "    for ei in range(input_length):\n",
    "        encoder_output, encoder_hidden = encoder(\n",
    "            input_tensor[ei], encoder_hidden)\n",
    "        encoder_outputs[ei] = encoder_output[:, 0]\n",
    "\n",
    "    decoder_input = torch.tensor([[SOS_token]]*batch_size, device=device)\n",
    "\n",
    "    decoder_hidden = encoder_hidden\n",
    "    use_teacher_forcing = True if random.random() < teacher_forcing_ratio else False\n",
    "\n",
    "    if use_teacher_forcing:\n",
    "        # Teacher forcing: Feed the target as the next input\n",
    "        for di in range(target_length):\n",
    "            decoder_output, decoder_hidden = decoder(\n",
    "                decoder_input, decoder_hidden, encoder_outputs)\n",
    "            loss += criterion(decoder_output.view(batch_size), target_tensor[di].view(batch_size))\n",
    "            rmse_loss += RMSELoss(decoder_output.view(batch_size), target_tensor[di].view(batch_size))\n",
    "            decoder_input = target_tensor[di]\n",
    "\n",
    "    else:\n",
    "        # Without teacher forcing: use its own predictions as the next input\n",
    "        for di in range(target_length):\n",
    "            decoder_output, decoder_hidden = decoder(\n",
    "                decoder_input, decoder_hidden, encoder_outputs)\n",
    "\n",
    "            loss += criterion(decoder_output.view(batch_size), target_tensor[di].view(batch_size))\n",
    "            rmse_loss += RMSELoss(decoder_output.view(batch_size), target_tensor[di].view(batch_size))\n",
    "            decoder_input = decoder_output.view(batch_size,1).squeeze().detach()  # detach from history as input\n",
    "\n",
    "    loss.backward()\n",
    "\n",
    "    encoder_optimizer.step()\n",
    "    decoder_optimizer.step()\n",
    "\n",
    "    return loss.item() / target_length, rmse_loss.item()/ target_length\n"
   ]
  },
  {
   "cell_type": "markdown",
   "metadata": {},
   "source": [
    "## EVALUATING AUTOENCODER MODEL USING MAE AND RMSE LOSS"
   ]
  },
  {
   "cell_type": "code",
   "execution_count": 13,
   "metadata": {},
   "outputs": [],
   "source": [
    "def evaluate(encoder, decoder, input_tensor, target_tensor, criterion):\n",
    "    with torch.no_grad():\n",
    "        loss=0\n",
    "        rmse_loss = 0\n",
    "        input_length = input_tensor.size()[0]\n",
    "        encoder_hidden = encoder.initHidden()\n",
    "        batch_size = input_tensor.size(1)\n",
    "        encoder_outputs = torch.zeros(input_length , batch_size,encoder.hidden_dim, device=device)\n",
    "\n",
    "        for ei in range(input_length):\n",
    "            encoder_output, encoder_hidden = encoder(input_tensor[ei],\n",
    "                                                     encoder_hidden)\n",
    "            encoder_outputs[ei] += encoder_output[:, 0]\n",
    "\n",
    "        decoder_input = torch.tensor([[SOS_token]]*batch_size, device=device)  # SOS\n",
    "\n",
    "        decoder_hidden = encoder_hidden\n",
    "        decoder_ops = torch.zeros(input_length ,batch_size,1, device=device)\n",
    "\n",
    "        for di in range(input_length):\n",
    "            decoder_output, decoder_hidden = decoder(\n",
    "                decoder_input, decoder_hidden, encoder_outputs)\n",
    "            decoder_ops[di] = decoder_output.view(batch_size,1)\n",
    "            decoder_input = decoder_output.view(batch_size,1).squeeze().detach()  # detach from history as input\n",
    "            loss += criterion(decoder_output.view(batch_size), target_tensor[di].view(batch_size))\n",
    "            rmse_loss += RMSELoss(decoder_output.view(batch_size), target_tensor[di].view(batch_size))\n",
    "            \n",
    "        return loss.item() / input_length, rmse_loss.item()/ input_length,decoder_ops"
   ]
  },
  {
   "cell_type": "markdown",
   "metadata": {},
   "source": [
    "## TRAINING MODEL FOR THE ENTIRE DATA AND CALCULATING LOSS"
   ]
  },
  {
   "cell_type": "code",
   "execution_count": 14,
   "metadata": {},
   "outputs": [],
   "source": [
    "def train_model(encoder,decoder,encoder_optimizer,decoder_optimizer,criterion, train_dataset, val_dataset,batch_size=32, n_epochs=100):\n",
    "    history = dict(train=[], val=[])\n",
    "    best_loss = 10000.0\n",
    "    best_encoder_wts = copy.deepcopy(encoder.state_dict())\n",
    "    best_decoder_wts = copy.deepcopy(decoder.state_dict())\n",
    "    best_encoder_optimiser = copy.deepcopy(encoder_optimizer.state_dict())\n",
    "    best_decoder_optimiser = copy.deepcopy(decoder_optimizer.state_dict())\n",
    "    for epoch in range(1, n_epochs + 1):\n",
    "#         model = model.train()\n",
    "        train_losses = []\n",
    "        train_rmses = []\n",
    "        for seq_true,noisy_true in train_dataset:\n",
    "            seq_true = torch.tensor(seq_true).view(-1,batch_size).to(device)\n",
    "            noisy_data = torch.tensor(noisy_true).view(-1,batch_size).to(device)\n",
    "#             print(seq_true.size())\n",
    "            loss,rmse = train(noisy_data, seq_true, encoder,\n",
    "                     decoder, encoder_optimizer, decoder_optimizer, criterion)\n",
    "            train_losses.append(loss)\n",
    "            train_rmses.append(rmse)\n",
    "        val_losses = []\n",
    "        val_rmses = []\n",
    "        with torch.no_grad():\n",
    "            for seq_true,noisy_data in val_dataset:\n",
    "                seq_true = torch.tensor(seq_true).view(-1,batch_size)\n",
    "                noisy_data = torch.tensor(noisy_data).view(-1,batch_size)\n",
    "                loss,rmse,_=evaluate(encoder,decoder,noisy_data,seq_true,criterion)\n",
    "                val_losses.append(loss)\n",
    "                val_rmses.append(rmse)\n",
    "        train_loss = np.mean(train_losses)\n",
    "        val_loss = np.mean(val_losses)\n",
    "        train_rmse = np.mean(train_rmses)\n",
    "        val_rmse = np.mean(val_rmses)\n",
    "        history['train'].append(train_loss)\n",
    "        history['val'].append(val_loss)\n",
    "        if val_loss < best_loss:\n",
    "            best_loss = val_loss\n",
    "            best_encoder_wts = copy.deepcopy(encoder.state_dict())\n",
    "            best_decoder_wts = copy.deepcopy(decoder.state_dict())\n",
    "            best_encoder_optimiser = copy.deepcopy(encoder_optimizer.state_dict())\n",
    "            best_decoder_optimiser = copy.deepcopy(decoder_optimizer.state_dict())\n",
    "        print(f'Epoch {epoch}: train loss {train_loss} val loss {val_loss} \\n train rmse {train_rmse} val_rmse {val_rmse}')\n",
    "    encoder.load_state_dict(best_encoder_wts)\n",
    "    decoder.load_state_dict(best_decoder_wts)\n",
    "    encoder_optimizer.load_state_dict(best_encoder_optimiser)\n",
    "    decoder_optimizer.load_state_dict(best_decoder_optimiser)\n",
    "    return history\n"
   ]
  },
  {
   "cell_type": "markdown",
   "metadata": {},
   "source": [
    "### SPLITTING THE TRAIN AND VAL DATA"
   ]
  },
  {
   "cell_type": "code",
   "execution_count": 15,
   "metadata": {},
   "outputs": [],
   "source": [
    "train_dataset, val_dataset = train_test_split(\n",
    "  list(zip(input_sequence,noisy_sequence)),\n",
    "  test_size=0.124,\n",
    "  random_state=RANDOM_SEED,\n",
    "    shuffle = False\n",
    ")"
   ]
  },
  {
   "cell_type": "markdown",
   "metadata": {},
   "source": [
    "## DEFINING THE AUTOENCODER MODEL WITH A PARTICULAR SET OF PARAMETERS"
   ]
  },
  {
   "cell_type": "code",
   "execution_count": 16,
   "metadata": {},
   "outputs": [],
   "source": [
    "criterion = nn.L1Loss()\n",
    "encoder = Encoder(n_features, embedding_dim,batch_size).to(device)\n",
    "decoder = Decoder(seq_len,embedding_dim, n_features,batch_size).to(device)\n",
    "\n",
    "encoder_optimizer = torch.optim.Adam(encoder.parameters(), lr=learning_rate)\n",
    "decoder_optimizer = torch.optim.Adam(decoder.parameters(), lr=learning_rate)"
   ]
  },
  {
   "cell_type": "markdown",
   "metadata": {},
   "source": [
    "## CALLING THE TRAIN FUNCTION TO ITERATE FOR A GIVEN NO. OF EPOCHS AND PRINT LOSS"
   ]
  },
  {
   "cell_type": "code",
   "execution_count": null,
   "metadata": {
    "scrolled": true
   },
   "outputs": [
    {
     "name": "stdout",
     "output_type": "stream",
     "text": [
      "Epoch 1: train loss 10.439188279401167 val loss 8.015655030332068 \n",
      " train rmse 10.488790555240204 val_rmse 8.07200583611049\n",
      "Epoch 2: train loss 3.0583899321087786 val loss 2.6633303327595486 \n",
      " train rmse 3.1692455247485998 val_rmse 2.7853806378940744\n",
      "Epoch 3: train loss 1.2782116417657614 val loss 1.555288075524218 \n",
      " train rmse 1.4104750328003484 val_rmse 1.6830653768105834\n",
      "Epoch 4: train loss 0.9416245625928549 val loss 1.8817452445407123 \n",
      " train rmse 1.074479129152142 val_rmse 1.9892631607020603\n",
      "Epoch 5: train loss 0.8521920506581995 val loss 1.8697995968236059 \n",
      " train rmse 0.9831403426385218 val_rmse 1.9788081492936498\n",
      "Epoch 6: train loss 0.737885334173072 val loss 1.6410099042798667 \n",
      " train rmse 0.8663130680549136 val_rmse 1.7511147342658802\n"
     ]
    }
   ],
   "source": [
    "h = train_model(encoder, decoder,encoder_optimizer,decoder_optimizer,criterion, train_dataset,val_dataset,batch_size = 16,n_epochs=150)"
   ]
  },
  {
   "cell_type": "markdown",
   "metadata": {},
   "source": [
    "### SAVING THE MODEL TO LOCAL FOR FUTURE PREDICTIONS"
   ]
  },
  {
   "cell_type": "code",
   "execution_count": 128,
   "metadata": {},
   "outputs": [],
   "source": [
    "PATH = output_model_path + output_model_file\n",
    "torch.save({\n",
    "            'encoder_state_dict': encoder.state_dict(),\n",
    "            'decoder_state_dict':decoder.state_dict(),\n",
    "            'e_optimizer_state_dict': encoder_optimizer.state_dict(),\n",
    "            'd_optimizer_state_dict': decoder_optimizer.state_dict(),\n",
    "            }, PATH)"
   ]
  },
  {
   "cell_type": "markdown",
   "metadata": {},
   "source": [
    "### PLOTTING TRAIN AND VALIDATION LOSS SAVED IN FILES"
   ]
  },
  {
   "cell_type": "code",
   "execution_count": 205,
   "metadata": {},
   "outputs": [],
   "source": [
    "with open(\"/home/sonakshireddy/Documents/train_val_loss/seq_len_24_bs_16_lr_1e-3_emb_8_dp_num_lay_2_dropout_0.1_train.txt\") as f:\n",
    "    d = f.read().split(\"\\n\")\n",
    "train_loss = list(map(float,d))"
   ]
  },
  {
   "cell_type": "code",
   "execution_count": 206,
   "metadata": {},
   "outputs": [],
   "source": [
    "with open(\"/home/sonakshireddy/Documents/train_val_loss/seq_len_24_bs_16_lr_1e-3_emb_8_dp_num_lay_2_dropout_0.1_val.txt\") as f:\n",
    "    d = f.read().split(\"\\n\")\n",
    "val_loss = list(map(float,d))"
   ]
  },
  {
   "cell_type": "code",
   "execution_count": 207,
   "metadata": {},
   "outputs": [],
   "source": [
    "loss_df = pd.DataFrame(zip(train_loss,val_loss),columns=['train_loss','val_loss'])\n",
    "loss_df.plot()"
   ]
  },
  {
   "cell_type": "code",
   "execution_count": 208,
   "metadata": {
    "scrolled": true
   },
   "outputs": [
    {
     "data": {
      "text/plain": [
       "<matplotlib.axes._subplots.AxesSubplot at 0x7f0416bf03c8>"
      ]
     },
     "execution_count": 208,
     "metadata": {},
     "output_type": "execute_result"
    },
    {
     "data": {
      "image/png": "[encoded data removed]",
      "text/plain": [
       "<Figure size 432x288 with 1 Axes>"
      ]
     },
     "metadata": {
      "needs_background": "light"
     },
     "output_type": "display_data"
    }
   ],
   "source": []
  },
  {
   "cell_type": "markdown",
   "metadata": {},
   "source": [
    "### PREDICTION OF MODEL ON TEST DATA (KENDALL & TONZI OF SOILSCAPE)"
   ]
  },
  {
   "cell_type": "code",
   "execution_count": 534,
   "metadata": {},
   "outputs": [
    {
     "name": "stderr",
     "output_type": "stream",
     "text": [
      "/home/sonakshireddy/virtual_environment/venv/lib/python3.6/site-packages/pandas/core/generic.py:8765: SettingWithCopyWarning: \n",
      "A value is trying to be set on a copy of a slice from a DataFrame\n",
      "\n",
      "See the caveats in the documentation: https://pandas.pydata.org/pandas-docs/stable/user_guide/indexing.html#returning-a-view-versus-a-copy\n",
      "  self._update_inplace(new_data)\n"
     ]
    }
   ],
   "source": [
    "## to get tonzi data of year 2015 (full year present)\n",
    "test = filtered[filtered.index.year==2015]['TonziRanch_CAn=408_d=5']\n",
    "test[test<1] = 0"
   ]
  },
  {
   "cell_type": "code",
   "execution_count": 503,
   "metadata": {},
   "outputs": [],
   "source": [
    "## to get kendall data of year 2017 (full year present)\n",
    "df = pd.read_csv(\"/home/sonakshireddy/Documents/soil/soil/pred_exp/merge_all_result_hourly.csv\",sep=\";\")\n",
    "df.index = pd.to_datetime(df['date'])\n",
    "test = df[df.index.year==2017]['Kendall_AZ_n=1408_d=5']"
   ]
  },
  {
   "cell_type": "code",
   "execution_count": 535,
   "metadata": {},
   "outputs": [],
   "source": [
    "## filling na with 0 (since noise in the input data is converted to 0 during training)\n",
    "test = test.fillna(0)"
   ]
  },
  {
   "cell_type": "code",
   "execution_count": 536,
   "metadata": {},
   "outputs": [],
   "source": [
    "test_ip = get_sequence(test,batch_size,seq_len)\n",
    "test_ip = torch.tensor(test_ip)"
   ]
  },
  {
   "cell_type": "markdown",
   "metadata": {},
   "source": [
    "### LOADING MODEL FROM FILE"
   ]
  },
  {
   "cell_type": "code",
   "execution_count": 537,
   "metadata": {},
   "outputs": [],
   "source": [
    "PATH = output_model_path + output_model_file\n",
    "checkpoint = torch.load(PATH)\n",
    "embedding_dim = 8\n",
    "e1 = Encoder(n_features, embedding_dim,batch_size).to(device)\n",
    "d1 = Decoder(seq_len,embedding_dim, n_features,batch_size).to(device)\n",
    "e1.load_state_dict(checkpoint['encoder_state_dict'])\n",
    "d1.load_state_dict(checkpoint['decoder_state_dict'])\n",
    "encoder_optimizer.load_state_dict(checkpoint['e_optimizer_state_dict'])\n",
    "decoder_optimizer.load_state_dict(checkpoint['d_optimizer_state_dict'])"
   ]
  },
  {
   "cell_type": "markdown",
   "metadata": {},
   "source": [
    "### CALLING EVALUATION FUNCTION ON TEST DATA"
   ]
  },
  {
   "cell_type": "code",
   "execution_count": 538,
   "metadata": {},
   "outputs": [
    {
     "name": "stderr",
     "output_type": "stream",
     "text": [
      "/home/sonakshireddy/virtual_environment/venv/lib/python3.6/site-packages/ipykernel_launcher.py:6: UserWarning: To copy construct from a tensor, it is recommended to use sourceTensor.clone().detach() or sourceTensor.clone().detach().requires_grad_(True), rather than torch.tensor(sourceTensor).\n",
      "  \n"
     ]
    },
    {
     "name": "stdout",
     "output_type": "stream",
     "text": [
      "test loss 0.795406388639676 rmse 0.9672571706684517\n"
     ]
    }
   ],
   "source": [
    "val_losses = []\n",
    "rmses = []\n",
    "outputs=[]\n",
    "with torch.no_grad():\n",
    "    for seq_true in test_ip:\n",
    "        seq_true = torch.tensor(seq_true).view(-1,batch_size)\n",
    "        loss,rmse,output=evaluate(e1,d1,seq_true,seq_true,criterion)\n",
    "        val_losses.append(loss)\n",
    "        rmses.append(rmse)\n",
    "        outputs.append(output.view(batch_size,-1,1).detach().numpy())\n",
    "val_loss = np.mean(val_losses)\n",
    "rmse_loss = np.mean(rmses)\n",
    "print(f'test loss {val_loss} rmse {rmse_loss}')"
   ]
  },
  {
   "cell_type": "markdown",
   "metadata": {},
   "source": [
    "### PLOTTING THE INPUT TEST DATA AND OUTPUT MODEL PREDICTIONS"
   ]
  },
  {
   "cell_type": "code",
   "execution_count": 539,
   "metadata": {},
   "outputs": [],
   "source": [
    "outputs_flat = torch.tensor(outputs).view(-1,seq_len)\n",
    "result_flat = []\n",
    "for i in range(0,outputs_flat.size()[0],seq_len):\n",
    "    result_flat.append(np.array(outputs_flat[i]))\n",
    "result_flat = torch.tensor(result_flat).view(-1,1)"
   ]
  },
  {
   "cell_type": "code",
   "execution_count": 542,
   "metadata": {},
   "outputs": [
    {
     "data": {
      "text/plain": [
       "[<matplotlib.lines.Line2D at 0x7f0414752940>]"
      ]
     },
     "execution_count": 542,
     "metadata": {},
     "output_type": "execute_result"
    },
    {
     "data": {
      "image/png": "[encoded data removed]",
      "text/plain": [
       "<Figure size 432x288 with 1 Axes>"
      ]
     },
     "metadata": {
      "needs_background": "light"
     },
     "output_type": "display_data"
    }
   ],
   "source": [
    "plt.plot(test.index[:result_flat.size()[0]]\n",
    "         ,test[:result_flat.size()[0]])\n"
   ]
  },
  {
   "cell_type": "code",
   "execution_count": 543,
   "metadata": {},
   "outputs": [
    {
     "data": {
      "text/plain": [
       "[<matplotlib.lines.Line2D at 0x7f040b0d29e8>]"
      ]
     },
     "execution_count": 543,
     "metadata": {},
     "output_type": "execute_result"
    },
    {
     "data": {
      "image/png": "[encoded data removed]",
      "text/plain": [
       "<Figure size 432x288 with 1 Axes>"
      ]
     },
     "metadata": {
      "needs_background": "light"
     },
     "output_type": "display_data"
    }
   ],
   "source": [
    "plt.plot(test.index[:result_flat.shape[0]]\n",
    "         ,result_flat)"
   ]
  },
  {
   "cell_type": "code",
   "execution_count": null,
   "metadata": {},
   "outputs": [],
   "source": []
  },
  {
   "cell_type": "code",
   "execution_count": 515,
   "metadata": {},
   "outputs": [],
   "source": [
    "# d= pd.DataFrame(zip(['128','64','32','16'],[0.505402091751488, 0.46571879952209405, 0.38053600353876155, 0.4761529921450049],[0.4771891025545145, 0.5250349153501285, 0.4961161183263152, 0.4749210866086993]),columns=['seq','tr','val'])\n",
    "# d.index = d['seq']\n",
    "# del d['seq']\n",
    "# d.index = map(int,d.index)\n",
    "# d = d.sort_index()\n",
    "# d.index = map(str,d.index)"
   ]
  },
  {
   "cell_type": "code",
   "execution_count": 530,
   "metadata": {},
   "outputs": [
    {
     "data": {
      "text/plain": [
       "<matplotlib.axes._subplots.AxesSubplot at 0x7f0417e3dd68>"
      ]
     },
     "execution_count": 530,
     "metadata": {},
     "output_type": "execute_result"
    },
    {
     "data": {
      "image/png": "[encoded data removed]",
      "text/plain": [
       "<Figure size 432x288 with 1 Axes>"
      ]
     },
     "metadata": {
      "needs_background": "light"
     },
     "output_type": "display_data"
    }
   ],
   "source": [
    "# d.plot()"
   ]
  },
  {
   "cell_type": "code",
   "execution_count": null,
   "metadata": {},
   "outputs": [],
   "source": []
  },
  {
   "cell_type": "code",
   "execution_count": null,
   "metadata": {},
   "outputs": [],
   "source": []
  },
  {
   "cell_type": "code",
   "execution_count": null,
   "metadata": {},
   "outputs": [],
   "source": []
  }
 ],
 "metadata": {
  "kernelspec": {
   "display_name": "Python 3",
   "language": "python",
   "name": "python3"
  },
  "language_info": {
   "codemirror_mode": {
    "name": "ipython",
    "version": 3
   },
   "file_extension": ".py",
   "mimetype": "text/x-python",
   "name": "python",
   "nbconvert_exporter": "python",
   "pygments_lexer": "ipython3",
   "version": "3.6.9"
  }
 },
 "nbformat": 4,
 "nbformat_minor": 4
}
